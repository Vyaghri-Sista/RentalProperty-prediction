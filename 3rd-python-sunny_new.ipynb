{
 "cells": [
  {
   "cell_type": "code",
   "execution_count": 1,
   "metadata": {},
   "outputs": [],
   "source": [
    "import os\n",
    "import pandas as pd\n",
    "import numpy as np\n",
    "import seaborn as sns\n",
    "import matplotlib.pyplot as plt\n",
    "%matplotlib inline\n",
    "path1=os.getcwd()\n",
    "from sklearn.model_selection import train_test_split\n",
    "from sklearn.linear_model import LinearRegression\n",
    "from sklearn import preprocessing\n",
    "from sklearn.preprocessing import MinMaxScaler\n"
   ]
  },
  {
   "cell_type": "code",
   "execution_count": 2,
   "metadata": {},
   "outputs": [
    {
     "name": "stdout",
     "output_type": "stream",
     "text": [
      "(27230, 18)\n",
      "(27230, 18)\n",
      "object\n"
     ]
    }
   ],
   "source": [
    "path=path1+'/Mod_Data.csv'\n",
    "data=pd.read_csv(path)\n",
    "data.dropna(inplace=True)\n",
    "print(data.shape)\n",
    "#print(np.count_nonzero(data['price'], axis=0))\n",
    "#print(data['price'].shape)\n",
    "#data.dropna(inplace=True)\n",
    "print(data.shape)\n",
    "print(data['last_review'].dtype)\n",
    "\n",
    "data['last_review']=data['last_review'].astype('datetime64[ns]')\n",
    "data['month_of_review']=pd.DatetimeIndex(data['last_review']).month\n",
    "data['year_of_review']=pd.DatetimeIndex(data['last_review']).year"
   ]
  },
  {
   "cell_type": "code",
   "execution_count": 3,
   "metadata": {},
   "outputs": [],
   "source": [
    "X_enc_rt = pd.get_dummies(data.room_type, prefix='Roomtype')\n",
    "X_enc_nh = pd.get_dummies(data.neighbourhood_group, prefix='NBG')\n",
    "X_enc_ng = pd.get_dummies(data.neighbourhood, prefix='NB')\n",
    "X_enc_hname=pd.get_dummies(data.host_name,prefix='HName')"
   ]
  },
  {
   "cell_type": "code",
   "execution_count": 4,
   "metadata": {},
   "outputs": [
    {
     "data": {
      "text/plain": [
       "(27230, 245)"
      ]
     },
     "execution_count": 4,
     "metadata": {},
     "output_type": "execute_result"
    }
   ],
   "source": [
    "Var = pd.concat([data, X_enc_rt,X_enc_nh,X_enc_ng], axis=1)\n",
    "#Var = data\n",
    "#print('Var columns ',Var.shape)\n",
    "#print('Data columns ',data.shape)\n",
    "Var.shape"
   ]
  },
  {
   "cell_type": "code",
   "execution_count": 5,
   "metadata": {},
   "outputs": [
    {
     "name": "stderr",
     "output_type": "stream",
     "text": [
      "<ipython-input-5-f9b8bb865974>:5: SettingWithCopyWarning: \n",
      "A value is trying to be set on a copy of a slice from a DataFrame.\n",
      "Try using .loc[row_indexer,col_indexer] = value instead\n",
      "\n",
      "See the caveats in the documentation: https://pandas.pydata.org/pandas-docs/stable/user_guide/indexing.html#returning-a-view-versus-a-copy\n",
      "  D1['price new']=n1\n",
      "<ipython-input-5-f9b8bb865974>:6: SettingWithCopyWarning: \n",
      "A value is trying to be set on a copy of a slice from a DataFrame.\n",
      "Try using .loc[row_indexer,col_indexer] = value instead\n",
      "\n",
      "See the caveats in the documentation: https://pandas.pydata.org/pandas-docs/stable/user_guide/indexing.html#returning-a-view-versus-a-copy\n",
      "  D1['Distance new']=n2\n"
     ]
    },
    {
     "data": {
      "text/html": [
       "<div>\n",
       "<style scoped>\n",
       "    .dataframe tbody tr th:only-of-type {\n",
       "        vertical-align: middle;\n",
       "    }\n",
       "\n",
       "    .dataframe tbody tr th {\n",
       "        vertical-align: top;\n",
       "    }\n",
       "\n",
       "    .dataframe thead th {\n",
       "        text-align: right;\n",
       "    }\n",
       "</style>\n",
       "<table border=\"1\" class=\"dataframe\">\n",
       "  <thead>\n",
       "    <tr style=\"text-align: right;\">\n",
       "      <th></th>\n",
       "      <th>Unnamed: 0</th>\n",
       "      <th>id</th>\n",
       "      <th>name</th>\n",
       "      <th>host_id</th>\n",
       "      <th>host_name</th>\n",
       "      <th>neighbourhood_group</th>\n",
       "      <th>neighbourhood</th>\n",
       "      <th>latitude</th>\n",
       "      <th>longitude</th>\n",
       "      <th>room_type</th>\n",
       "      <th>...</th>\n",
       "      <th>NB_Westerleigh</th>\n",
       "      <th>NB_Whitestone</th>\n",
       "      <th>NB_Williamsbridge</th>\n",
       "      <th>NB_Williamsburg</th>\n",
       "      <th>NB_Windsor Terrace</th>\n",
       "      <th>NB_Woodhaven</th>\n",
       "      <th>NB_Woodlawn</th>\n",
       "      <th>NB_Woodside</th>\n",
       "      <th>price new</th>\n",
       "      <th>Distance new</th>\n",
       "    </tr>\n",
       "  </thead>\n",
       "  <tbody>\n",
       "    <tr>\n",
       "      <th>0</th>\n",
       "      <td>0</td>\n",
       "      <td>5728806</td>\n",
       "      <td>Large private room in Nolita</td>\n",
       "      <td>4271676</td>\n",
       "      <td>Nat</td>\n",
       "      <td>Manhattan</td>\n",
       "      <td>Nolita</td>\n",
       "      <td>40.72217</td>\n",
       "      <td>-73.99481</td>\n",
       "      <td>Private room</td>\n",
       "      <td>...</td>\n",
       "      <td>0</td>\n",
       "      <td>0</td>\n",
       "      <td>0</td>\n",
       "      <td>0</td>\n",
       "      <td>0</td>\n",
       "      <td>0</td>\n",
       "      <td>0</td>\n",
       "      <td>0</td>\n",
       "      <td>4.787492</td>\n",
       "      <td>8.169504</td>\n",
       "    </tr>\n",
       "    <tr>\n",
       "      <th>2</th>\n",
       "      <td>2</td>\n",
       "      <td>35515415</td>\n",
       "      <td>COZY APT CLOSE TO LGA &amp; JFK AND TRANSPORTATION</td>\n",
       "      <td>267193767</td>\n",
       "      <td>Jenny</td>\n",
       "      <td>Queens</td>\n",
       "      <td>East Elmhurst</td>\n",
       "      <td>40.75558</td>\n",
       "      <td>-73.89316</td>\n",
       "      <td>Entire home/apt</td>\n",
       "      <td>...</td>\n",
       "      <td>0</td>\n",
       "      <td>0</td>\n",
       "      <td>0</td>\n",
       "      <td>0</td>\n",
       "      <td>0</td>\n",
       "      <td>0</td>\n",
       "      <td>0</td>\n",
       "      <td>0</td>\n",
       "      <td>5.298317</td>\n",
       "      <td>8.195852</td>\n",
       "    </tr>\n",
       "    <tr>\n",
       "      <th>4</th>\n",
       "      <td>4</td>\n",
       "      <td>3780951</td>\n",
       "      <td>Charming Harlem apartment</td>\n",
       "      <td>16065171</td>\n",
       "      <td>Gina</td>\n",
       "      <td>Manhattan</td>\n",
       "      <td>Harlem</td>\n",
       "      <td>40.81022</td>\n",
       "      <td>-73.94266</td>\n",
       "      <td>Shared room</td>\n",
       "      <td>...</td>\n",
       "      <td>0</td>\n",
       "      <td>0</td>\n",
       "      <td>0</td>\n",
       "      <td>0</td>\n",
       "      <td>0</td>\n",
       "      <td>0</td>\n",
       "      <td>0</td>\n",
       "      <td>0</td>\n",
       "      <td>4.744932</td>\n",
       "      <td>7.564448</td>\n",
       "    </tr>\n",
       "    <tr>\n",
       "      <th>5</th>\n",
       "      <td>5</td>\n",
       "      <td>9944426</td>\n",
       "      <td>Lower Manhattan Luxury</td>\n",
       "      <td>51105827</td>\n",
       "      <td>Dax</td>\n",
       "      <td>Manhattan</td>\n",
       "      <td>Battery Park City</td>\n",
       "      <td>40.71192</td>\n",
       "      <td>-74.01572</td>\n",
       "      <td>Entire home/apt</td>\n",
       "      <td>...</td>\n",
       "      <td>0</td>\n",
       "      <td>0</td>\n",
       "      <td>0</td>\n",
       "      <td>0</td>\n",
       "      <td>0</td>\n",
       "      <td>0</td>\n",
       "      <td>0</td>\n",
       "      <td>0</td>\n",
       "      <td>5.416100</td>\n",
       "      <td>8.384940</td>\n",
       "    </tr>\n",
       "    <tr>\n",
       "      <th>6</th>\n",
       "      <td>6</td>\n",
       "      <td>19786915</td>\n",
       "      <td>Spacious Clean Studio  Apartment</td>\n",
       "      <td>86892032</td>\n",
       "      <td>Marian</td>\n",
       "      <td>Queens</td>\n",
       "      <td>Rosedale</td>\n",
       "      <td>40.65766</td>\n",
       "      <td>-73.72838</td>\n",
       "      <td>Entire home/apt</td>\n",
       "      <td>...</td>\n",
       "      <td>0</td>\n",
       "      <td>0</td>\n",
       "      <td>0</td>\n",
       "      <td>0</td>\n",
       "      <td>0</td>\n",
       "      <td>0</td>\n",
       "      <td>0</td>\n",
       "      <td>0</td>\n",
       "      <td>4.094345</td>\n",
       "      <td>9.424361</td>\n",
       "    </tr>\n",
       "  </tbody>\n",
       "</table>\n",
       "<p>5 rows × 247 columns</p>\n",
       "</div>"
      ],
      "text/plain": [
       "   Unnamed: 0        id                                            name  \\\n",
       "0           0   5728806                    Large private room in Nolita   \n",
       "2           2  35515415  COZY APT CLOSE TO LGA & JFK AND TRANSPORTATION   \n",
       "4           4   3780951                       Charming Harlem apartment   \n",
       "5           5   9944426                          Lower Manhattan Luxury   \n",
       "6           6  19786915                Spacious Clean Studio  Apartment   \n",
       "\n",
       "     host_id host_name neighbourhood_group      neighbourhood  latitude  \\\n",
       "0    4271676       Nat           Manhattan             Nolita  40.72217   \n",
       "2  267193767     Jenny              Queens      East Elmhurst  40.75558   \n",
       "4   16065171      Gina           Manhattan             Harlem  40.81022   \n",
       "5   51105827       Dax           Manhattan  Battery Park City  40.71192   \n",
       "6   86892032    Marian              Queens           Rosedale  40.65766   \n",
       "\n",
       "   longitude        room_type  ...  NB_Westerleigh  NB_Whitestone  \\\n",
       "0  -73.99481     Private room  ...               0              0   \n",
       "2  -73.89316  Entire home/apt  ...               0              0   \n",
       "4  -73.94266      Shared room  ...               0              0   \n",
       "5  -74.01572  Entire home/apt  ...               0              0   \n",
       "6  -73.72838  Entire home/apt  ...               0              0   \n",
       "\n",
       "   NB_Williamsbridge NB_Williamsburg  NB_Windsor Terrace  NB_Woodhaven  \\\n",
       "0                  0               0                   0             0   \n",
       "2                  0               0                   0             0   \n",
       "4                  0               0                   0             0   \n",
       "5                  0               0                   0             0   \n",
       "6                  0               0                   0             0   \n",
       "\n",
       "   NB_Woodlawn  NB_Woodside  price new  Distance new  \n",
       "0            0            0   4.787492      8.169504  \n",
       "2            0            0   5.298317      8.195852  \n",
       "4            0            0   4.744932      7.564448  \n",
       "5            0            0   5.416100      8.384940  \n",
       "6            0            0   4.094345      9.424361  \n",
       "\n",
       "[5 rows x 247 columns]"
      ]
     },
     "execution_count": 5,
     "metadata": {},
     "output_type": "execute_result"
    }
   ],
   "source": [
    "D1=Var[(Var['price'] > 0)]\n",
    "#D2=D1.iloc[:,7:26]\n",
    "n1=np.log(D1['price'])\n",
    "n2=np.log(D1['Distance in m'])\n",
    "D1['price new']=n1\n",
    "D1['Distance new']=n2\n",
    "D1.head()"
   ]
  },
  {
   "cell_type": "code",
   "execution_count": 6,
   "metadata": {},
   "outputs": [
    {
     "data": {
      "image/png": "[encoded data removed]",
      "text/plain": [
       "<Figure size 1080x576 with 1 Axes>"
      ]
     },
     "metadata": {
      "needs_background": "light"
     },
     "output_type": "display_data"
    }
   ],
   "source": [
    "figure =plt.figure(figsize=(15,8))\n",
    "sns.distplot(D1['price new'],bins=20)\n",
    "plt.title('Distribution of Properties as a function of distance from City Center', fontsize=30)\n",
    "plt.xlabel('Distance in (m)',fontsize=25)\n",
    "plt.ylabel('Distribution',fontsize=25)\n",
    "plt.xticks(fontsize=20)\n",
    "plt.yticks(fontsize=20)\n",
    "plt.show()"
   ]
  },
  {
   "cell_type": "code",
   "execution_count": 12,
   "metadata": {},
   "outputs": [
    {
     "name": "stderr",
     "output_type": "stream",
     "text": [
      "<ipython-input-12-4e3578fcf858>:2: SettingWithCopyWarning: \n",
      "A value is trying to be set on a copy of a slice from a DataFrame\n",
      "\n",
      "See the caveats in the documentation: https://pandas.pydata.org/pandas-docs/stable/user_guide/indexing.html#returning-a-view-versus-a-copy\n",
      "  D2.dropna(inplace=True)\n"
     ]
    },
    {
     "data": {
      "text/plain": [
       "(25827, 247)"
      ]
     },
     "execution_count": 12,
     "metadata": {},
     "output_type": "execute_result"
    }
   ],
   "source": [
    "D2=D1[(D1['price new'] >=2. )&(D1['price new'] <= 5.8)]\n",
    "D2.dropna(inplace=True)\n",
    "D2.shape\n",
    "#D2=D1"
   ]
  },
  {
   "cell_type": "code",
   "execution_count": 8,
   "metadata": {},
   "outputs": [],
   "source": [
    "#from sklearn.preprocessing import MinMaxScaler\n",
    "\n",
    "#Y1=D2[['Distance in m']].values.astype(float)\n",
    "#min_max_scaler = preprocessing.MinMaxScaler()\n",
    "#D_scaled=min_max_scaler.fit_transform(Y1)\n",
    "#D_normalized=pd.DataFrame(D_scaled)\n",
    "#D_normalized\n",
    "#D2['D_norm']=D_normalized\n"
   ]
  },
  {
   "cell_type": "code",
   "execution_count": 9,
   "metadata": {},
   "outputs": [],
   "source": [
    "from sklearn.preprocessing import MinMaxScaler\n",
    "\n",
    "X=D2.drop(['price new','name','host_name','neighbourhood_group','neighbourhood','room_type','price','minimum_nights','last_review','reviews_per_month','calculated_host_listings_count','Distance new','availability_365'],axis=1)\n",
    "#X=D2.drop(['Distance in m','price new','name','host_name','neighbourhood_group','neighbourhood','room_type','price','last_review','reviews_per_month','number_of_reviews'],axis=1)\n",
    "\n",
    "#Y1=D2[['price new']].values.astype(float)\n",
    "#min_max_scaler=preprocessing.MinMaxScaler()\n",
    "#Y_scaled=min_max_scaler.fit_transform(Y1)\n",
    "#Y=pd.DataFrame(Y_scaled)\n",
    "#D2_normalized\n",
    "Y=D2['price new']\n",
    "#X.isnull().count()"
   ]
  },
  {
   "cell_type": "code",
   "execution_count": 10,
   "metadata": {},
   "outputs": [
    {
     "data": {
      "text/plain": [
       "0.6007868230504613"
      ]
     },
     "execution_count": 10,
     "metadata": {},
     "output_type": "execute_result"
    }
   ],
   "source": [
    "X_train,X_test,y_train,y_test=train_test_split(X,Y,test_size=0.3, random_state=60)\n",
    "sklr = LinearRegression()\n",
    "sklr.fit(X_train,y_train)\n",
    "sklr.score(X_test,y_test)"
   ]
  },
  {
   "cell_type": "code",
   "execution_count": 11,
   "metadata": {},
   "outputs": [
    {
     "name": "stdout",
     "output_type": "stream",
     "text": [
      "0.35995419967893133\n"
     ]
    }
   ],
   "source": [
    "import math\n",
    "from sklearn.metrics import mean_squared_error\n",
    "y_pred=sklr.predict(X_test)\n",
    "reg_model_mse=mean_squared_error(y_pred,y_test)\n",
    "print(math.sqrt(reg_model_mse))"
   ]
  },
  {
   "cell_type": "code",
   "execution_count": null,
   "metadata": {},
   "outputs": [],
   "source": []
  }
 ],
 "metadata": {
  "kernelspec": {
   "display_name": "Python 3",
   "language": "python",
   "name": "python3"
  },
  "language_info": {
   "codemirror_mode": {
    "name": "ipython",
    "version": 3
   },
   "file_extension": ".py",
   "mimetype": "text/x-python",
   "name": "python",
   "nbconvert_exporter": "python",
   "pygments_lexer": "ipython3",
   "version": "3.8.3"
  }
 },
 "nbformat": 4,
 "nbformat_minor": 4
}
