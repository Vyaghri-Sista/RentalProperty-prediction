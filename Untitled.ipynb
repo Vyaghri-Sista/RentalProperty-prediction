{
 "cells": [
  {
   "cell_type": "code",
   "execution_count": 1,
   "metadata": {},
   "outputs": [],
   "source": [
    "import os\n",
    "import pandas as pd\n",
    "import numpy as np\n",
    "import matplotlib.pyplot as plt\n",
    "import seaborn as sns\n",
    "%matplotlib inline\n",
    "import math"
   ]
  },
  {
   "cell_type": "code",
   "execution_count": 2,
   "metadata": {},
   "outputs": [],
   "source": [
    "path='50kV-32kV.xlsx'\n",
    "data=pd.read_excel(path)"
   ]
  },
  {
   "cell_type": "markdown",
   "metadata": {},
   "source": [
    "# Collecting the data\n",
    "    df is for voltage value corresponding to x'\n",
    "    df1 is the current at different values of x position"
   ]
  },
  {
   "cell_type": "code",
   "execution_count": 3,
   "metadata": {},
   "outputs": [],
   "source": [
    "df=data[data.columns[::2]]\n",
    "df1=data.iloc[:,1::2]\n"
   ]
  },
  {
   "cell_type": "markdown",
   "metadata": {},
   "source": [
    "# here we converted the voltage into yp (mrad) by using the following formula\n",
    "yp=(V/E)(D-2*del)/4g in our case V is voltage in volts, E=50 keV, D=80 mm, del=5 mm, and g=4 mm"
   ]
  },
  {
   "cell_type": "code",
   "execution_count": 4,
   "metadata": {},
   "outputs": [],
   "source": [
    "yp=df.iloc[:,1]\n",
    "\n",
    "c1=(80-10)/(16*50)\n",
    "yp=yp.multiply(other = c1*100)"
   ]
  },
  {
   "cell_type": "markdown",
   "metadata": {},
   "source": [
    "# removing the first few rows in the dataframe to avoid the spike"
   ]
  },
  {
   "cell_type": "code",
   "execution_count": 5,
   "metadata": {},
   "outputs": [
    {
     "name": "stderr",
     "output_type": "stream",
     "text": [
      "C:\\Users\\svlsrao\\anaconda3\\lib\\site-packages\\pandas\\core\\indexing.py:670: SettingWithCopyWarning: \n",
      "A value is trying to be set on a copy of a slice from a DataFrame\n",
      "\n",
      "See the caveats in the documentation: https://pandas.pydata.org/pandas-docs/stable/user_guide/indexing.html#returning-a-view-versus-a-copy\n",
      "  iloc._setitem_with_indexer(indexer, value)\n",
      "<ipython-input-5-61726c0592cf>:4: SettingWithCopyWarning: \n",
      "A value is trying to be set on a copy of a slice from a DataFrame\n",
      "\n",
      "See the caveats in the documentation: https://pandas.pydata.org/pandas-docs/stable/user_guide/indexing.html#returning-a-view-versus-a-copy\n",
      "  df2.iloc[:,:] *= -1\n"
     ]
    }
   ],
   "source": [
    "y=list(df.columns)\n",
    "yp=yp.iloc[60:]\n",
    "df2=df1.iloc[60:,:]\n",
    "df2.iloc[:,:] *= -1\n",
    "#Maximum current value in each column (ie at each value of y mm)\n",
    "Peakcurrent= df2.max()\n",
    "#Maximum current of entire dataframe\n",
    "Maxim=max(Peakcurrent)"
   ]
  },
  {
   "cell_type": "markdown",
   "metadata": {},
   "source": [
    "# replacing the values below certain value by zero in the dataframe"
   ]
  },
  {
   "cell_type": "code",
   "execution_count": 6,
   "metadata": {},
   "outputs": [
    {
     "name": "stderr",
     "output_type": "stream",
     "text": [
      "<ipython-input-6-c48a164a0553>:1: SettingWithCopyWarning: \n",
      "A value is trying to be set on a copy of a slice from a DataFrame.\n",
      "Try using .loc[row_indexer,col_indexer] = value instead\n",
      "\n",
      "See the caveats in the documentation: https://pandas.pydata.org/pandas-docs/stable/user_guide/indexing.html#returning-a-view-versus-a-copy\n",
      "  df2[df2 < 0.1*Maxim]=0\n",
      "C:\\Users\\svlsrao\\anaconda3\\lib\\site-packages\\pandas\\core\\frame.py:3089: SettingWithCopyWarning: \n",
      "A value is trying to be set on a copy of a slice from a DataFrame\n",
      "\n",
      "See the caveats in the documentation: https://pandas.pydata.org/pandas-docs/stable/user_guide/indexing.html#returning-a-view-versus-a-copy\n",
      "  self._where(-key, value, inplace=True)\n"
     ]
    }
   ],
   "source": [
    "df2[df2 < 0.1*Maxim]=0"
   ]
  },
  {
   "cell_type": "code",
   "execution_count": 7,
   "metadata": {},
   "outputs": [
    {
     "data": {
      "text/plain": [
       "1.68672"
      ]
     },
     "execution_count": 7,
     "metadata": {},
     "output_type": "execute_result"
    }
   ],
   "source": [
    "max(df2.max())"
   ]
  },
  {
   "cell_type": "markdown",
   "metadata": {},
   "source": [
    "# calculation of p(y) and p(yp)"
   ]
  },
  {
   "cell_type": "code",
   "execution_count": 8,
   "metadata": {},
   "outputs": [],
   "source": [
    "py=df2.sum(axis=0)\n",
    "ppy=df2.sum(axis=1)\n",
    "wy=py/sum(py)\n",
    "wpy=ppy/sum(ppy)"
   ]
  },
  {
   "cell_type": "markdown",
   "metadata": {},
   "source": [
    "# calculation of averaged value of y and y'\n",
    "    <y>= wi*yi\n",
    "    <y'>=wpy*yp"
   ]
  },
  {
   "cell_type": "code",
   "execution_count": 9,
   "metadata": {},
   "outputs": [
    {
     "data": {
      "text/plain": [
       "[0.515,\n",
       " 1.04,\n",
       " 1.54,\n",
       " 2.045,\n",
       " 2.545,\n",
       " 3.055,\n",
       " 3.55,\n",
       " 4.075,\n",
       " 4.58,\n",
       " 5.07,\n",
       " 5.575,\n",
       " 6.06,\n",
       " 6.575,\n",
       " 7.08,\n",
       " 7.58,\n",
       " 8.09,\n",
       " 8.595,\n",
       " 9.11,\n",
       " 9.6,\n",
       " 10.105,\n",
       " 10.59,\n",
       " 11.095,\n",
       " 11.585,\n",
       " 12.095,\n",
       " 12.59,\n",
       " 13.105,\n",
       " 13.625,\n",
       " 14.12,\n",
       " 14.63,\n",
       " 15.11,\n",
       " 15.62,\n",
       " 16.105,\n",
       " 16.62,\n",
       " 17.115,\n",
       " 17.63,\n",
       " 18.145,\n",
       " 18.645,\n",
       " 19.15,\n",
       " 19.635,\n",
       " 20.14,\n",
       " 20.62,\n",
       " 21.135,\n",
       " 21.64,\n",
       " 22.14,\n",
       " 22.65,\n",
       " 23.155,\n",
       " 23.67,\n",
       " 24.17,\n",
       " 24.675,\n",
       " 25.155,\n",
       " 25.665,\n",
       " 26.14,\n",
       " 26.65,\n",
       " 27.155,\n",
       " 27.655,\n",
       " 28.17,\n",
       " 28.665,\n",
       " 29.185,\n",
       " 29.67,\n",
       " 30.165,\n",
       " 30.665,\n",
       " 31.155,\n",
       " 31.655,\n",
       " 32.15,\n",
       " 32.665,\n",
       " 33.165,\n",
       " 33.68,\n",
       " 34.175,\n",
       " 34.68,\n",
       " 35.175,\n",
       " 35.665,\n",
       " 36.145,\n",
       " 36.65,\n",
       " 37.16,\n",
       " 37.655,\n",
       " 38.175,\n",
       " 38.69,\n",
       " 39.19,\n",
       " 39.685,\n",
       " 40.17,\n",
       " 40.665,\n",
       " 41.15,\n",
       " 41.655,\n",
       " 42.145,\n",
       " 42.665,\n",
       " 43.175,\n",
       " 43.68,\n",
       " 44.19,\n",
       " 44.675,\n",
       " 45.17,\n",
       " 45.65,\n",
       " 46.155,\n",
       " 46.635,\n",
       " 47.155,\n",
       " 47.665,\n",
       " 48.165,\n",
       " 48.685,\n",
       " 49.18,\n",
       " 49.68,\n",
       " 50.16,\n",
       " 50.665,\n",
       " 51.145,\n",
       " 51.655,\n",
       " 52.165,\n",
       " 52.665,\n",
       " 53.185,\n",
       " 53.685,\n",
       " 54.195,\n",
       " 54.675,\n",
       " 55.175,\n",
       " 55.67,\n",
       " 56.16,\n",
       " 56.64,\n",
       " 57.16,\n",
       " 57.675,\n",
       " 58.175,\n",
       " 58.7,\n",
       " 59.185,\n",
       " 59.685,\n",
       " 60.16,\n",
       " 60.665,\n",
       " 61.17,\n",
       " 61.665,\n",
       " 62.17,\n",
       " 62.67,\n",
       " 63.185,\n",
       " 63.685,\n",
       " 64.195,\n",
       " 64.665,\n",
       " 65.17,\n",
       " 65.665,\n",
       " 66.16,\n",
       " 66.665,\n",
       " 67.15,\n",
       " 67.67,\n",
       " 68.19,\n",
       " 68.685,\n",
       " 69.195,\n",
       " 69.675,\n",
       " 70.175,\n",
       " 70.655,\n",
       " 71.165,\n",
       " 71.65,\n",
       " 72.175,\n",
       " 72.685,\n",
       " 73.185,\n",
       " 73.7,\n",
       " 74.195,\n",
       " 74.69,\n",
       " 75.165,\n",
       " 75.675,\n",
       " 76.155,\n",
       " 76.67,\n",
       " 77.18,\n",
       " 77.68,\n",
       " 78.2,\n",
       " 78.195]"
      ]
     },
     "execution_count": 9,
     "metadata": {},
     "output_type": "execute_result"
    }
   ],
   "source": [
    "y"
   ]
  },
  {
   "cell_type": "code",
   "execution_count": 10,
   "metadata": {},
   "outputs": [
    {
     "name": "stdout",
     "output_type": "stream",
     "text": [
      "35.12898824663766 11.510086939394753\n"
     ]
    }
   ],
   "source": [
    "Avg_y=sum(y*wy)\n",
    "Avg_yp=sum(yp*wpy)\n",
    "print(Avg_y,Avg_yp)"
   ]
  },
  {
   "cell_type": "code",
   "execution_count": 11,
   "metadata": {},
   "outputs": [
    {
     "name": "stdout",
     "output_type": "stream",
     "text": [
      "140.65248086223534 458.7759068856162\n"
     ]
    }
   ],
   "source": [
    "dy=[x-Avg_y for x in y]\n",
    "dyp=[x-Avg_yp for x in yp]\n",
    "\n",
    "dy2=[x**2 for x in dy]\n",
    "dyp2=[x**2 for x in dyp]\n",
    "\n",
    "Avg_y2=sum(dy2*wy)\n",
    "Avg_yp2=sum(dyp2*wpy)\n",
    "print(Avg_y2,Avg_yp2)"
   ]
  },
  {
   "cell_type": "code",
   "execution_count": 12,
   "metadata": {},
   "outputs": [
    {
     "data": {
      "text/plain": [
       "0.0"
      ]
     },
     "execution_count": 12,
     "metadata": {},
     "output_type": "execute_result"
    }
   ],
   "source": [
    "df3=df2.to_numpy()\n",
    "df3[0][1]"
   ]
  },
  {
   "cell_type": "code",
   "execution_count": 13,
   "metadata": {},
   "outputs": [
    {
     "name": "stdout",
     "output_type": "stream",
     "text": [
      "1243479.9110685778\n"
     ]
    }
   ],
   "source": [
    "sum=0\n",
    "for i in range(len(dy)):\n",
    "    for j in range(len(dyp)):\n",
    "        sum += dy[i]*dyp[j]*df3[j][i]\n",
    "        \n",
    "print(sum)"
   ]
  },
  {
   "cell_type": "code",
   "execution_count": 14,
   "metadata": {},
   "outputs": [
    {
     "data": {
      "text/plain": [
       "8671.825048"
      ]
     },
     "execution_count": 14,
     "metadata": {},
     "output_type": "execute_result"
    }
   ],
   "source": [
    "df3.sum()"
   ]
  },
  {
   "cell_type": "code",
   "execution_count": 15,
   "metadata": {},
   "outputs": [],
   "source": [
    "Avg_yyp=sum/df3.sum()"
   ]
  },
  {
   "cell_type": "code",
   "execution_count": 16,
   "metadata": {},
   "outputs": [],
   "source": [
    "import math\n",
    "emit=math.sqrt(Avg_y2*Avg_yp2-Avg_yyp**2)"
   ]
  },
  {
   "cell_type": "code",
   "execution_count": 17,
   "metadata": {},
   "outputs": [
    {
     "name": "stdout",
     "output_type": "stream",
     "text": [
      "2.0968163292363626\n"
     ]
    }
   ],
   "source": [
    "NormE=emit*0.01\n",
    "print(NormE)"
   ]
  },
  {
   "cell_type": "code",
   "execution_count": 18,
   "metadata": {},
   "outputs": [
    {
     "data": {
      "text/plain": [
       "<matplotlib.axes._subplots.AxesSubplot at 0x1fcdb66dbb0>"
      ]
     },
     "execution_count": 18,
     "metadata": {},
     "output_type": "execute_result"
    },
    {
     "data": {
      "image/png": "[encoded data removed]",
      "text/plain": [
       "<Figure size 720x720 with 1 Axes>"
      ]
     },
     "metadata": {
      "needs_background": "light"
     },
     "output_type": "display_data"
    }
   ],
   "source": [
    "plt.figure(figsize=(10,10))\n",
    "sns.scatterplot(yp,df2.iloc[:,50])"
   ]
  },
  {
   "cell_type": "code",
   "execution_count": 19,
   "metadata": {},
   "outputs": [],
   "source": [
    "yp.to_csv('yp.csv')"
   ]
  },
  {
   "cell_type": "code",
   "execution_count": 20,
   "metadata": {},
   "outputs": [],
   "source": [
    "ppy.to_csv('pyp.csv')"
   ]
  },
  {
   "cell_type": "code",
   "execution_count": 21,
   "metadata": {},
   "outputs": [],
   "source": [
    "df2.to_csv('in.csv')"
   ]
  },
  {
   "cell_type": "code",
   "execution_count": 22,
   "metadata": {},
   "outputs": [],
   "source": [
    "py.to_csv('py.csv')"
   ]
  },
  {
   "cell_type": "code",
   "execution_count": null,
   "metadata": {},
   "outputs": [],
   "source": []
  }
 ],
 "metadata": {
  "kernelspec": {
   "display_name": "Python 3",
   "language": "python",
   "name": "python3"
  },
  "language_info": {
   "codemirror_mode": {
    "name": "ipython",
    "version": 3
   },
   "file_extension": ".py",
   "mimetype": "text/x-python",
   "name": "python",
   "nbconvert_exporter": "python",
   "pygments_lexer": "ipython3",
   "version": "3.8.3"
  }
 },
 "nbformat": 4,
 "nbformat_minor": 4
}
