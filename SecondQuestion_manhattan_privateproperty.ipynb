{
 "cells": [
  {
   "cell_type": "code",
   "execution_count": 1,
   "metadata": {},
   "outputs": [
    {
     "data": {
      "text/plain": [
       "'C:\\\\Users\\\\admin\\\\Documents\\\\python-code\\\\Hackatho'"
      ]
     },
     "execution_count": 1,
     "metadata": {},
     "output_type": "execute_result"
    }
   ],
   "source": [
    "import os\n",
    "import pandas as pd\n",
    "import numpy as np\n",
    "import seaborn as sns\n",
    "import matplotlib.pyplot as plt\n",
    "%matplotlib inline\n",
    "os.getcwd()"
   ]
  },
  {
   "cell_type": "code",
   "execution_count": 2,
   "metadata": {},
   "outputs": [
    {
     "data": {
      "text/plain": [
       "(34226, 16)"
      ]
     },
     "execution_count": 2,
     "metadata": {},
     "output_type": "execute_result"
    }
   ],
   "source": [
    "path='C:\\\\Users\\\\admin\\\\Documents\\\\python-code\\\\Hackatho/file/Train.csv'\n",
    "data=pd.read_csv(path)\n",
    "data.shape"
   ]
  },
  {
   "cell_type": "markdown",
   "metadata": {},
   "source": [
    "# To see whether the id numbers or unique or not\n",
    "    -we use the command data['id'].nunique(dropna=True)=> drop null values"
   ]
  },
  {
   "cell_type": "code",
   "execution_count": 3,
   "metadata": {},
   "outputs": [
    {
     "data": {
      "text/plain": [
       "34226"
      ]
     },
     "execution_count": 3,
     "metadata": {},
     "output_type": "execute_result"
    }
   ],
   "source": [
    "data['id'].nunique(dropna=True)"
   ]
  },
  {
   "cell_type": "markdown",
   "metadata": {},
   "source": [
    "# select only the lat and log values of neighbourhood_group (Manhattan)"
   ]
  },
  {
   "cell_type": "code",
   "execution_count": 4,
   "metadata": {},
   "outputs": [],
   "source": [
    "dpr=data[data['room_type']=='Private room']"
   ]
  },
  {
   "cell_type": "code",
   "execution_count": 5,
   "metadata": {},
   "outputs": [
    {
     "data": {
      "text/plain": [
       "array(['Private room'], dtype=object)"
      ]
     },
     "execution_count": 5,
     "metadata": {},
     "output_type": "execute_result"
    }
   ],
   "source": [
    "dpr['room_type'].unique()"
   ]
  },
  {
   "cell_type": "code",
   "execution_count": 6,
   "metadata": {},
   "outputs": [],
   "source": [
    "dpr_mn=dpr[dpr['neighbourhood_group']=='Manhattan']"
   ]
  },
  {
   "cell_type": "markdown",
   "metadata": {},
   "source": [
    "# The above commands can be done using the following single command"
   ]
  },
  {
   "cell_type": "code",
   "execution_count": 7,
   "metadata": {},
   "outputs": [],
   "source": [
    "dpr_mn1=data[(data['room_type']=='Private room')&(data['neighbourhood_group']=='Manhattan')]"
   ]
  },
  {
   "cell_type": "code",
   "execution_count": 8,
   "metadata": {},
   "outputs": [],
   "source": [
    "dpr_mn1.to_csv('Manhattan.csv')"
   ]
  },
  {
   "cell_type": "code",
   "execution_count": 9,
   "metadata": {},
   "outputs": [
    {
     "data": {
      "text/html": [
       "<div>\n",
       "<style scoped>\n",
       "    .dataframe tbody tr th:only-of-type {\n",
       "        vertical-align: middle;\n",
       "    }\n",
       "\n",
       "    .dataframe tbody tr th {\n",
       "        vertical-align: top;\n",
       "    }\n",
       "\n",
       "    .dataframe thead th {\n",
       "        text-align: right;\n",
       "    }\n",
       "</style>\n",
       "<table border=\"1\" class=\"dataframe\">\n",
       "  <thead>\n",
       "    <tr style=\"text-align: right;\">\n",
       "      <th></th>\n",
       "      <th>id</th>\n",
       "      <th>name</th>\n",
       "      <th>host_id</th>\n",
       "      <th>host_name</th>\n",
       "      <th>neighbourhood_group</th>\n",
       "      <th>neighbourhood</th>\n",
       "      <th>latitude</th>\n",
       "      <th>longitude</th>\n",
       "      <th>room_type</th>\n",
       "      <th>price</th>\n",
       "      <th>minimum_nights</th>\n",
       "      <th>number_of_reviews</th>\n",
       "      <th>last_review</th>\n",
       "      <th>reviews_per_month</th>\n",
       "      <th>calculated_host_listings_count</th>\n",
       "      <th>availability_365</th>\n",
       "    </tr>\n",
       "  </thead>\n",
       "  <tbody>\n",
       "    <tr>\n",
       "      <th>0</th>\n",
       "      <td>5728806</td>\n",
       "      <td>Large private room in Nolita</td>\n",
       "      <td>4271676</td>\n",
       "      <td>Nat</td>\n",
       "      <td>Manhattan</td>\n",
       "      <td>Nolita</td>\n",
       "      <td>40.72217</td>\n",
       "      <td>-73.99481</td>\n",
       "      <td>Private room</td>\n",
       "      <td>120</td>\n",
       "      <td>7</td>\n",
       "      <td>3</td>\n",
       "      <td>2015-09-01</td>\n",
       "      <td>0.06</td>\n",
       "      <td>3</td>\n",
       "      <td>0</td>\n",
       "    </tr>\n",
       "    <tr>\n",
       "      <th>14</th>\n",
       "      <td>5040218</td>\n",
       "      <td>LUX Blg-Prime Area! Lg PRIVATE RM &amp; BATH w/VIEWS!</td>\n",
       "      <td>26019828</td>\n",
       "      <td>Sonia</td>\n",
       "      <td>Manhattan</td>\n",
       "      <td>Hell's Kitchen</td>\n",
       "      <td>40.76159</td>\n",
       "      <td>-73.99824</td>\n",
       "      <td>Private room</td>\n",
       "      <td>69</td>\n",
       "      <td>2</td>\n",
       "      <td>22</td>\n",
       "      <td>2019-03-20</td>\n",
       "      <td>0.64</td>\n",
       "      <td>2</td>\n",
       "      <td>7</td>\n",
       "    </tr>\n",
       "    <tr>\n",
       "      <th>23</th>\n",
       "      <td>20587133</td>\n",
       "      <td>Spacious, bright room in art-filled apartment!</td>\n",
       "      <td>116758734</td>\n",
       "      <td>Amos</td>\n",
       "      <td>Manhattan</td>\n",
       "      <td>Inwood</td>\n",
       "      <td>40.87085</td>\n",
       "      <td>-73.91830</td>\n",
       "      <td>Private room</td>\n",
       "      <td>59</td>\n",
       "      <td>4</td>\n",
       "      <td>19</td>\n",
       "      <td>2018-10-06</td>\n",
       "      <td>0.84</td>\n",
       "      <td>1</td>\n",
       "      <td>0</td>\n",
       "    </tr>\n",
       "    <tr>\n",
       "      <th>31</th>\n",
       "      <td>33682823</td>\n",
       "      <td>New York City Luxury Bedroom!!</td>\n",
       "      <td>224317184</td>\n",
       "      <td>Luke</td>\n",
       "      <td>Manhattan</td>\n",
       "      <td>Harlem</td>\n",
       "      <td>40.81652</td>\n",
       "      <td>-73.94914</td>\n",
       "      <td>Private room</td>\n",
       "      <td>215</td>\n",
       "      <td>5</td>\n",
       "      <td>7</td>\n",
       "      <td>2019-06-21</td>\n",
       "      <td>2.73</td>\n",
       "      <td>8</td>\n",
       "      <td>335</td>\n",
       "    </tr>\n",
       "    <tr>\n",
       "      <th>60</th>\n",
       "      <td>4926610</td>\n",
       "      <td>Panoramic City Views in Lux bldg</td>\n",
       "      <td>7537442</td>\n",
       "      <td>Loydeen</td>\n",
       "      <td>Manhattan</td>\n",
       "      <td>East Harlem</td>\n",
       "      <td>40.80315</td>\n",
       "      <td>-73.94017</td>\n",
       "      <td>Private room</td>\n",
       "      <td>50</td>\n",
       "      <td>7</td>\n",
       "      <td>25</td>\n",
       "      <td>2019-06-28</td>\n",
       "      <td>0.50</td>\n",
       "      <td>1</td>\n",
       "      <td>151</td>\n",
       "    </tr>\n",
       "    <tr>\n",
       "      <th>61</th>\n",
       "      <td>34483432</td>\n",
       "      <td>Manhattan Accommodation Across Central Park</td>\n",
       "      <td>260425153</td>\n",
       "      <td>Park Lane</td>\n",
       "      <td>Manhattan</td>\n",
       "      <td>Midtown</td>\n",
       "      <td>40.76427</td>\n",
       "      <td>-73.97618</td>\n",
       "      <td>Private room</td>\n",
       "      <td>375</td>\n",
       "      <td>1</td>\n",
       "      <td>1</td>\n",
       "      <td>2019-06-30</td>\n",
       "      <td>1.00</td>\n",
       "      <td>14</td>\n",
       "      <td>349</td>\n",
       "    </tr>\n",
       "    <tr>\n",
       "      <th>65</th>\n",
       "      <td>17702242</td>\n",
       "      <td>Stylish Private BR  in the Upper East Side</td>\n",
       "      <td>10661558</td>\n",
       "      <td>Gio</td>\n",
       "      <td>Manhattan</td>\n",
       "      <td>Upper East Side</td>\n",
       "      <td>40.77349</td>\n",
       "      <td>-73.94994</td>\n",
       "      <td>Private room</td>\n",
       "      <td>129</td>\n",
       "      <td>1</td>\n",
       "      <td>117</td>\n",
       "      <td>2019-07-04</td>\n",
       "      <td>4.20</td>\n",
       "      <td>4</td>\n",
       "      <td>155</td>\n",
       "    </tr>\n",
       "    <tr>\n",
       "      <th>66</th>\n",
       "      <td>30269789</td>\n",
       "      <td>private room in apt near Fort Tryon Park.</td>\n",
       "      <td>87897420</td>\n",
       "      <td>Anne</td>\n",
       "      <td>Manhattan</td>\n",
       "      <td>Inwood</td>\n",
       "      <td>40.86171</td>\n",
       "      <td>-73.92945</td>\n",
       "      <td>Private room</td>\n",
       "      <td>65</td>\n",
       "      <td>4</td>\n",
       "      <td>1</td>\n",
       "      <td>2019-01-01</td>\n",
       "      <td>0.16</td>\n",
       "      <td>1</td>\n",
       "      <td>13</td>\n",
       "    </tr>\n",
       "    <tr>\n",
       "      <th>68</th>\n",
       "      <td>20147537</td>\n",
       "      <td>Paradise Room (Private Room)</td>\n",
       "      <td>142812843</td>\n",
       "      <td>Eugene</td>\n",
       "      <td>Manhattan</td>\n",
       "      <td>East Harlem</td>\n",
       "      <td>40.79104</td>\n",
       "      <td>-73.93805</td>\n",
       "      <td>Private room</td>\n",
       "      <td>75</td>\n",
       "      <td>1</td>\n",
       "      <td>12</td>\n",
       "      <td>2017-11-05</td>\n",
       "      <td>0.51</td>\n",
       "      <td>2</td>\n",
       "      <td>0</td>\n",
       "    </tr>\n",
       "    <tr>\n",
       "      <th>71</th>\n",
       "      <td>10390256</td>\n",
       "      <td>East Village Apartment</td>\n",
       "      <td>3078092</td>\n",
       "      <td>Amanda</td>\n",
       "      <td>Manhattan</td>\n",
       "      <td>East Village</td>\n",
       "      <td>40.73144</td>\n",
       "      <td>-73.98355</td>\n",
       "      <td>Private room</td>\n",
       "      <td>75</td>\n",
       "      <td>1</td>\n",
       "      <td>0</td>\n",
       "      <td>NaN</td>\n",
       "      <td>NaN</td>\n",
       "      <td>1</td>\n",
       "      <td>0</td>\n",
       "    </tr>\n",
       "    <tr>\n",
       "      <th>77</th>\n",
       "      <td>36183003</td>\n",
       "      <td>Private bedroom withWiFi minutes from Central ...</td>\n",
       "      <td>82406306</td>\n",
       "      <td>Marc</td>\n",
       "      <td>Manhattan</td>\n",
       "      <td>East Harlem</td>\n",
       "      <td>40.80128</td>\n",
       "      <td>-73.93991</td>\n",
       "      <td>Private room</td>\n",
       "      <td>78</td>\n",
       "      <td>1</td>\n",
       "      <td>0</td>\n",
       "      <td>NaN</td>\n",
       "      <td>NaN</td>\n",
       "      <td>2</td>\n",
       "      <td>13</td>\n",
       "    </tr>\n",
       "    <tr>\n",
       "      <th>81</th>\n",
       "      <td>10099517</td>\n",
       "      <td>Master room in a luxury apartment</td>\n",
       "      <td>16869971</td>\n",
       "      <td>Han</td>\n",
       "      <td>Manhattan</td>\n",
       "      <td>Roosevelt Island</td>\n",
       "      <td>40.76947</td>\n",
       "      <td>-73.94303</td>\n",
       "      <td>Private room</td>\n",
       "      <td>80</td>\n",
       "      <td>1</td>\n",
       "      <td>1</td>\n",
       "      <td>2016-01-05</td>\n",
       "      <td>0.02</td>\n",
       "      <td>2</td>\n",
       "      <td>0</td>\n",
       "    </tr>\n",
       "    <tr>\n",
       "      <th>82</th>\n",
       "      <td>18043457</td>\n",
       "      <td>Spacious Private Room in Nolita</td>\n",
       "      <td>15651644</td>\n",
       "      <td>Alan</td>\n",
       "      <td>Manhattan</td>\n",
       "      <td>Chinatown</td>\n",
       "      <td>40.71866</td>\n",
       "      <td>-73.99633</td>\n",
       "      <td>Private room</td>\n",
       "      <td>120</td>\n",
       "      <td>3</td>\n",
       "      <td>1</td>\n",
       "      <td>2017-05-21</td>\n",
       "      <td>0.04</td>\n",
       "      <td>1</td>\n",
       "      <td>0</td>\n",
       "    </tr>\n",
       "    <tr>\n",
       "      <th>88</th>\n",
       "      <td>25482581</td>\n",
       "      <td>Modern BR with Private Bathroom Near Central Park</td>\n",
       "      <td>146905275</td>\n",
       "      <td>Roberto</td>\n",
       "      <td>Manhattan</td>\n",
       "      <td>Upper West Side</td>\n",
       "      <td>40.77471</td>\n",
       "      <td>-73.98955</td>\n",
       "      <td>Private room</td>\n",
       "      <td>140</td>\n",
       "      <td>1</td>\n",
       "      <td>50</td>\n",
       "      <td>2019-07-02</td>\n",
       "      <td>3.71</td>\n",
       "      <td>1</td>\n",
       "      <td>69</td>\n",
       "    </tr>\n",
       "    <tr>\n",
       "      <th>93</th>\n",
       "      <td>18615898</td>\n",
       "      <td>Welcoming home in the ❤️ of NYC!</td>\n",
       "      <td>23867523</td>\n",
       "      <td>K</td>\n",
       "      <td>Manhattan</td>\n",
       "      <td>Theater District</td>\n",
       "      <td>40.76207</td>\n",
       "      <td>-73.98580</td>\n",
       "      <td>Private room</td>\n",
       "      <td>120</td>\n",
       "      <td>1</td>\n",
       "      <td>8</td>\n",
       "      <td>2019-05-31</td>\n",
       "      <td>2.09</td>\n",
       "      <td>1</td>\n",
       "      <td>5</td>\n",
       "    </tr>\n",
       "    <tr>\n",
       "      <th>99</th>\n",
       "      <td>4667146</td>\n",
       "      <td>Best value double room in New York B4</td>\n",
       "      <td>20559017</td>\n",
       "      <td>Yohan</td>\n",
       "      <td>Manhattan</td>\n",
       "      <td>East Harlem</td>\n",
       "      <td>40.78512</td>\n",
       "      <td>-73.94409</td>\n",
       "      <td>Private room</td>\n",
       "      <td>50</td>\n",
       "      <td>30</td>\n",
       "      <td>5</td>\n",
       "      <td>2018-12-30</td>\n",
       "      <td>0.11</td>\n",
       "      <td>9</td>\n",
       "      <td>330</td>\n",
       "    </tr>\n",
       "    <tr>\n",
       "      <th>106</th>\n",
       "      <td>31704075</td>\n",
       "      <td>Cozy Manhattan Room</td>\n",
       "      <td>153793156</td>\n",
       "      <td>Erika</td>\n",
       "      <td>Manhattan</td>\n",
       "      <td>Morningside Heights</td>\n",
       "      <td>40.81633</td>\n",
       "      <td>-73.96069</td>\n",
       "      <td>Private room</td>\n",
       "      <td>50</td>\n",
       "      <td>2</td>\n",
       "      <td>15</td>\n",
       "      <td>2019-06-20</td>\n",
       "      <td>3.60</td>\n",
       "      <td>1</td>\n",
       "      <td>2</td>\n",
       "    </tr>\n",
       "    <tr>\n",
       "      <th>118</th>\n",
       "      <td>11326009</td>\n",
       "      <td>Cozy SunLit Room Next To TimeSquare</td>\n",
       "      <td>13125944</td>\n",
       "      <td>Calvin</td>\n",
       "      <td>Manhattan</td>\n",
       "      <td>Hell's Kitchen</td>\n",
       "      <td>40.76510</td>\n",
       "      <td>-73.98854</td>\n",
       "      <td>Private room</td>\n",
       "      <td>79</td>\n",
       "      <td>1</td>\n",
       "      <td>2</td>\n",
       "      <td>2016-05-21</td>\n",
       "      <td>0.05</td>\n",
       "      <td>2</td>\n",
       "      <td>0</td>\n",
       "    </tr>\n",
       "    <tr>\n",
       "      <th>119</th>\n",
       "      <td>21883986</td>\n",
       "      <td>Cozy Room with queen size bed for 2</td>\n",
       "      <td>158710682</td>\n",
       "      <td>Cedar</td>\n",
       "      <td>Manhattan</td>\n",
       "      <td>Midtown</td>\n",
       "      <td>40.75298</td>\n",
       "      <td>-73.96912</td>\n",
       "      <td>Private room</td>\n",
       "      <td>90</td>\n",
       "      <td>1</td>\n",
       "      <td>0</td>\n",
       "      <td>NaN</td>\n",
       "      <td>NaN</td>\n",
       "      <td>3</td>\n",
       "      <td>221</td>\n",
       "    </tr>\n",
       "    <tr>\n",
       "      <th>123</th>\n",
       "      <td>23324479</td>\n",
       "      <td>HARLEM HOME AWAY FROM HOME , SHORT - EXTENDED ...</td>\n",
       "      <td>120167980</td>\n",
       "      <td>Judith</td>\n",
       "      <td>Manhattan</td>\n",
       "      <td>Harlem</td>\n",
       "      <td>40.80497</td>\n",
       "      <td>-73.94952</td>\n",
       "      <td>Private room</td>\n",
       "      <td>125</td>\n",
       "      <td>1</td>\n",
       "      <td>7</td>\n",
       "      <td>2019-05-12</td>\n",
       "      <td>0.43</td>\n",
       "      <td>1</td>\n",
       "      <td>297</td>\n",
       "    </tr>\n",
       "  </tbody>\n",
       "</table>\n",
       "</div>"
      ],
      "text/plain": [
       "           id                                               name    host_id  \\\n",
       "0     5728806                       Large private room in Nolita    4271676   \n",
       "14    5040218  LUX Blg-Prime Area! Lg PRIVATE RM & BATH w/VIEWS!   26019828   \n",
       "23   20587133     Spacious, bright room in art-filled apartment!  116758734   \n",
       "31   33682823                     New York City Luxury Bedroom!!  224317184   \n",
       "60    4926610                   Panoramic City Views in Lux bldg    7537442   \n",
       "61   34483432        Manhattan Accommodation Across Central Park  260425153   \n",
       "65   17702242         Stylish Private BR  in the Upper East Side   10661558   \n",
       "66   30269789          private room in apt near Fort Tryon Park.   87897420   \n",
       "68   20147537                       Paradise Room (Private Room)  142812843   \n",
       "71   10390256                             East Village Apartment    3078092   \n",
       "77   36183003  Private bedroom withWiFi minutes from Central ...   82406306   \n",
       "81   10099517                  Master room in a luxury apartment   16869971   \n",
       "82   18043457                    Spacious Private Room in Nolita   15651644   \n",
       "88   25482581  Modern BR with Private Bathroom Near Central Park  146905275   \n",
       "93   18615898                   Welcoming home in the ❤️ of NYC!   23867523   \n",
       "99    4667146              Best value double room in New York B4   20559017   \n",
       "106  31704075                                Cozy Manhattan Room  153793156   \n",
       "118  11326009                Cozy SunLit Room Next To TimeSquare   13125944   \n",
       "119  21883986                Cozy Room with queen size bed for 2  158710682   \n",
       "123  23324479  HARLEM HOME AWAY FROM HOME , SHORT - EXTENDED ...  120167980   \n",
       "\n",
       "     host_name neighbourhood_group        neighbourhood  latitude  longitude  \\\n",
       "0          Nat           Manhattan               Nolita  40.72217  -73.99481   \n",
       "14       Sonia           Manhattan       Hell's Kitchen  40.76159  -73.99824   \n",
       "23        Amos           Manhattan               Inwood  40.87085  -73.91830   \n",
       "31        Luke           Manhattan               Harlem  40.81652  -73.94914   \n",
       "60     Loydeen           Manhattan          East Harlem  40.80315  -73.94017   \n",
       "61   Park Lane           Manhattan              Midtown  40.76427  -73.97618   \n",
       "65         Gio           Manhattan      Upper East Side  40.77349  -73.94994   \n",
       "66        Anne           Manhattan               Inwood  40.86171  -73.92945   \n",
       "68      Eugene           Manhattan          East Harlem  40.79104  -73.93805   \n",
       "71      Amanda           Manhattan         East Village  40.73144  -73.98355   \n",
       "77        Marc           Manhattan          East Harlem  40.80128  -73.93991   \n",
       "81         Han           Manhattan     Roosevelt Island  40.76947  -73.94303   \n",
       "82        Alan           Manhattan            Chinatown  40.71866  -73.99633   \n",
       "88     Roberto           Manhattan      Upper West Side  40.77471  -73.98955   \n",
       "93           K           Manhattan     Theater District  40.76207  -73.98580   \n",
       "99       Yohan           Manhattan          East Harlem  40.78512  -73.94409   \n",
       "106      Erika           Manhattan  Morningside Heights  40.81633  -73.96069   \n",
       "118     Calvin           Manhattan       Hell's Kitchen  40.76510  -73.98854   \n",
       "119      Cedar           Manhattan              Midtown  40.75298  -73.96912   \n",
       "123     Judith           Manhattan               Harlem  40.80497  -73.94952   \n",
       "\n",
       "        room_type  price  minimum_nights  number_of_reviews last_review  \\\n",
       "0    Private room    120               7                  3  2015-09-01   \n",
       "14   Private room     69               2                 22  2019-03-20   \n",
       "23   Private room     59               4                 19  2018-10-06   \n",
       "31   Private room    215               5                  7  2019-06-21   \n",
       "60   Private room     50               7                 25  2019-06-28   \n",
       "61   Private room    375               1                  1  2019-06-30   \n",
       "65   Private room    129               1                117  2019-07-04   \n",
       "66   Private room     65               4                  1  2019-01-01   \n",
       "68   Private room     75               1                 12  2017-11-05   \n",
       "71   Private room     75               1                  0         NaN   \n",
       "77   Private room     78               1                  0         NaN   \n",
       "81   Private room     80               1                  1  2016-01-05   \n",
       "82   Private room    120               3                  1  2017-05-21   \n",
       "88   Private room    140               1                 50  2019-07-02   \n",
       "93   Private room    120               1                  8  2019-05-31   \n",
       "99   Private room     50              30                  5  2018-12-30   \n",
       "106  Private room     50               2                 15  2019-06-20   \n",
       "118  Private room     79               1                  2  2016-05-21   \n",
       "119  Private room     90               1                  0         NaN   \n",
       "123  Private room    125               1                  7  2019-05-12   \n",
       "\n",
       "     reviews_per_month  calculated_host_listings_count  availability_365  \n",
       "0                 0.06                               3                 0  \n",
       "14                0.64                               2                 7  \n",
       "23                0.84                               1                 0  \n",
       "31                2.73                               8               335  \n",
       "60                0.50                               1               151  \n",
       "61                1.00                              14               349  \n",
       "65                4.20                               4               155  \n",
       "66                0.16                               1                13  \n",
       "68                0.51                               2                 0  \n",
       "71                 NaN                               1                 0  \n",
       "77                 NaN                               2                13  \n",
       "81                0.02                               2                 0  \n",
       "82                0.04                               1                 0  \n",
       "88                3.71                               1                69  \n",
       "93                2.09                               1                 5  \n",
       "99                0.11                               9               330  \n",
       "106               3.60                               1                 2  \n",
       "118               0.05                               2                 0  \n",
       "119                NaN                               3               221  \n",
       "123               0.43                               1               297  "
      ]
     },
     "execution_count": 9,
     "metadata": {},
     "output_type": "execute_result"
    }
   ],
   "source": [
    "dpr_mn1.head(20)\n"
   ]
  },
  {
   "cell_type": "markdown",
   "metadata": {},
   "source": [
    "# calculation of distance between two lat and long"
   ]
  },
  {
   "cell_type": "code",
   "execution_count": 10,
   "metadata": {},
   "outputs": [],
   "source": [
    "import math\n",
    "\n",
    "lat1=math.radians(40.72217)\n",
    "lon1=math.radians(73.99481)\n",
    "lat2=math.radians(40.7598)\n",
    "lon2=math.radians(73.9851)"
   ]
  },
  {
   "cell_type": "code",
   "execution_count": 11,
   "metadata": {},
   "outputs": [
    {
     "name": "stdout",
     "output_type": "stream",
     "text": [
      "0.7107359450568592\n"
     ]
    }
   ],
   "source": [
    "print(lat1)"
   ]
  },
  {
   "cell_type": "code",
   "execution_count": 12,
   "metadata": {},
   "outputs": [
    {
     "name": "stdout",
     "output_type": "stream",
     "text": [
      "distance between lat coodinates 4.264821681880072  km\n"
     ]
    }
   ],
   "source": [
    "R=6373.0\n",
    "\n",
    "dlon = lon2 - lon1\n",
    "dlat = lat2 - lat1\n",
    "a = math.sin(dlat / 2)**2 + math.cos(lat1) * math.cos(lat2) * math.sin(dlon / 2)**2\n",
    "c = 2 * math.atan2(math.sqrt(a), math.sqrt(1 - a))\n",
    "\n",
    "distance = R * c\n",
    "\n",
    "print('distance between lat coodinates',distance,' km')"
   ]
  },
  {
   "cell_type": "code",
   "execution_count": 13,
   "metadata": {},
   "outputs": [],
   "source": [
    "dr2=dpr_mn1[['latitude','longitude']]"
   ]
  },
  {
   "cell_type": "code",
   "execution_count": 14,
   "metadata": {},
   "outputs": [
    {
     "data": {
      "text/plain": [
       "array([[ 40.72217, -73.99481],\n",
       "       [ 40.76159, -73.99824],\n",
       "       [ 40.87085, -73.9183 ],\n",
       "       ...,\n",
       "       [ 40.79613, -73.96658],\n",
       "       [ 40.72613, -73.98447],\n",
       "       [ 40.77697, -73.97698]])"
      ]
     },
     "execution_count": 14,
     "metadata": {},
     "output_type": "execute_result"
    }
   ],
   "source": [
    "dr3=dr2.to_numpy()\n",
    "dr3"
   ]
  },
  {
   "cell_type": "code",
   "execution_count": 15,
   "metadata": {},
   "outputs": [
    {
     "data": {
      "text/plain": [
       "numpy.ndarray"
      ]
     },
     "execution_count": 15,
     "metadata": {},
     "output_type": "execute_result"
    }
   ],
   "source": [
    "type(dr3)"
   ]
  },
  {
   "cell_type": "code",
   "execution_count": 16,
   "metadata": {},
   "outputs": [
    {
     "data": {
      "text/plain": [
       "5602"
      ]
     },
     "execution_count": 16,
     "metadata": {},
     "output_type": "execute_result"
    }
   ],
   "source": [
    "dr3[0][0]\n",
    "len(dr3)"
   ]
  },
  {
   "cell_type": "code",
   "execution_count": 17,
   "metadata": {},
   "outputs": [],
   "source": [
    "import math\n",
    "dr5=dr3*math.pi/180\n",
    "\n",
    "dr4=dr3*math.pi/180\n",
    "#dr4\n",
    "dr4[:,0] -= 40.7831*math.pi/180\n",
    "dlat=dr4[:,0]\n",
    "dlon=dr4[:,1]\n",
    "\n",
    "dlon -= -73.9712*math.pi/180\n"
   ]
  },
  {
   "cell_type": "code",
   "execution_count": 18,
   "metadata": {},
   "outputs": [],
   "source": [
    "a=[]\n",
    "for i in range(len(dr3)):\n",
    "    a.append(math.sin(dlat[i]/2)**2+math.cos(dr5[i][0])*math.cos(40.7831*math.pi/180)*math.sin(dlon[i]/2)**2)"
   ]
  },
  {
   "cell_type": "code",
   "execution_count": 19,
   "metadata": {},
   "outputs": [],
   "source": [
    "c=[]\n",
    "for i in range(len(dr3)):\n",
    "    c.append(math.atan2(math.sqrt(a[i]),math.sqrt(1-a[i])))\n",
    "    "
   ]
  },
  {
   "cell_type": "code",
   "execution_count": 20,
   "metadata": {},
   "outputs": [],
   "source": [
    "d=[]\n",
    "for i in range(len(dr3)):\n",
    "    d.append(6373.0*c[i])\n",
    "\n"
   ]
  },
  {
   "cell_type": "code",
   "execution_count": 21,
   "metadata": {},
   "outputs": [
    {
     "name": "stderr",
     "output_type": "stream",
     "text": [
      "<ipython-input-21-ce9e49f88d02>:1: SettingWithCopyWarning: \n",
      "A value is trying to be set on a copy of a slice from a DataFrame.\n",
      "Try using .loc[row_indexer,col_indexer] = value instead\n",
      "\n",
      "See the caveats in the documentation: https://pandas.pydata.org/pandas-docs/stable/user_guide/indexing.html#returning-a-view-versus-a-copy\n",
      "  dpr_mn1['Distance in km']= d\n"
     ]
    }
   ],
   "source": [
    "dpr_mn1['Distance in km']= d"
   ]
  },
  {
   "cell_type": "code",
   "execution_count": 22,
   "metadata": {},
   "outputs": [
    {
     "data": {
      "text/plain": [
       "9999"
      ]
     },
     "execution_count": 22,
     "metadata": {},
     "output_type": "execute_result"
    }
   ],
   "source": [
    "dpr_mn1['price'].max()\n"
   ]
  },
  {
   "cell_type": "code",
   "execution_count": 23,
   "metadata": {},
   "outputs": [
    {
     "data": {
      "image/png": "[encoded data removed]",
      "text/plain": [
       "<Figure size 1080x576 with 1 Axes>"
      ]
     },
     "metadata": {
      "needs_background": "light"
     },
     "output_type": "display_data"
    }
   ],
   "source": [
    "figure =plt.figure(figsize=(15,8))\n",
    "sns.distplot(dpr_mn1['Distance in km'])\n",
    "plt.title('Distribution of Properties as a function of distance from City Center', fontsize=30)\n",
    "plt.xlabel('Distance in (km)',fontsize=25)\n",
    "plt.ylabel('Distribution',fontsize=25)\n",
    "plt.xticks(fontsize=20)\n",
    "plt.yticks(fontsize=20)\n",
    "plt.show()"
   ]
  },
  {
   "cell_type": "code",
   "execution_count": 24,
   "metadata": {},
   "outputs": [
    {
     "data": {
      "text/plain": [
       "<matplotlib.axes._subplots.AxesSubplot at 0x224284631c0>"
      ]
     },
     "execution_count": 24,
     "metadata": {},
     "output_type": "execute_result"
    },
    {
     "data": {
      "image/png": "[encoded data removed]",
      "text/plain": [
       "<Figure size 432x288 with 1 Axes>"
      ]
     },
     "metadata": {
      "needs_background": "light"
     },
     "output_type": "display_data"
    }
   ],
   "source": [
    "sns.scatterplot(dpr_mn1['Distance in km'],dpr_mn1['price'])"
   ]
  },
  {
   "cell_type": "markdown",
   "metadata": {},
   "source": [
    "# Calculating the price distribution for different properties distance from city center"
   ]
  },
  {
   "cell_type": "code",
   "execution_count": 25,
   "metadata": {},
   "outputs": [],
   "source": [
    "dpr_mn1.to_csv('out.csv')"
   ]
  },
  {
   "cell_type": "code",
   "execution_count": 26,
   "metadata": {},
   "outputs": [],
   "source": [
    "dpr_mn2=dpr_mn1[dpr_mn1['Distance in km'] <= 3]\n",
    "dpr_mn3=dpr_mn1[(dpr_mn1['Distance in km']>3) & (dpr_mn1['Distance in km']<=6)]\n",
    "dpr_mn4=dpr_mn1[(dpr_mn1['Distance in km']>6) & (dpr_mn1['Distance in km']<=8)]"
   ]
  },
  {
   "cell_type": "code",
   "execution_count": 27,
   "metadata": {},
   "outputs": [
    {
     "name": "stderr",
     "output_type": "stream",
     "text": [
      "C:\\ProgramData\\Anaconda3\\lib\\site-packages\\seaborn\\distributions.py:198: RuntimeWarning: Mean of empty slice.\n",
      "  line, = ax.plot(a.mean(), 0)\n",
      "C:\\ProgramData\\Anaconda3\\lib\\site-packages\\numpy\\core\\_methods.py:161: RuntimeWarning: invalid value encountered in double_scalars\n",
      "  ret = ret.dtype.type(ret / rcount)\n",
      "C:\\ProgramData\\Anaconda3\\lib\\site-packages\\numpy\\lib\\histograms.py:908: RuntimeWarning: invalid value encountered in true_divide\n",
      "  return n/db/n.sum(), bin_edges\n"
     ]
    },
    {
     "data": {
      "text/plain": [
       "<matplotlib.axes._subplots.AxesSubplot at 0x22422ed5a90>"
      ]
     },
     "execution_count": 27,
     "metadata": {},
     "output_type": "execute_result"
    },
    {
     "data": {
      "image/png": "[encoded data removed]",
      "text/plain": [
       "<Figure size 1440x360 with 1 Axes>"
      ]
     },
     "metadata": {
      "needs_background": "light"
     },
     "output_type": "display_data"
    }
   ],
   "source": [
    "figure =plt.figure(figsize=(20,5))\n",
    "sns.distplot(dpr_mn2['price'])\n",
    "sns.distplot(dpr_mn3['price'])\n",
    "sns.distplot(dpr_mn4['price'])"
   ]
  },
  {
   "cell_type": "code",
   "execution_count": 28,
   "metadata": {},
   "outputs": [],
   "source": [
    "dpr_mn1n=dpr_mn1.sort_values(by='Distance in km',ascending=True)"
   ]
  },
  {
   "cell_type": "code",
   "execution_count": 29,
   "metadata": {},
   "outputs": [
    {
     "data": {
      "text/plain": [
       "<matplotlib.axes._subplots.AxesSubplot at 0x224291cc8b0>"
      ]
     },
     "execution_count": 29,
     "metadata": {},
     "output_type": "execute_result"
    },
    {
     "data": {
      "image/png": "[encoded data removed]",
      "text/plain": [
       "<Figure size 1080x720 with 1 Axes>"
      ]
     },
     "metadata": {
      "needs_background": "light"
     },
     "output_type": "display_data"
    }
   ],
   "source": [
    "figure =plt.figure(figsize=(15,10))\n",
    "dpr_mn1n.head()\n",
    "sns.lineplot(dpr_mn1n['Distance in km'],dpr_mn1n['price'])\n",
    "sns.scatterplot(dpr_mn1n['Distance in km'],dpr_mn1n['price'])"
   ]
  },
  {
   "cell_type": "code",
   "execution_count": 30,
   "metadata": {},
   "outputs": [],
   "source": [
    "dpr_mn2n=dpr_mn1[dpr_mn1['price']<3500].sort_values(by='Distance in km',ascending=True)"
   ]
  },
  {
   "cell_type": "code",
   "execution_count": 31,
   "metadata": {},
   "outputs": [
    {
     "data": {
      "text/plain": [
       "<matplotlib.axes._subplots.AxesSubplot at 0x22429387d30>"
      ]
     },
     "execution_count": 31,
     "metadata": {},
     "output_type": "execute_result"
    },
    {
     "data": {
      "image/png": "[encoded data removed]",
      "text/plain": [
       "<Figure size 1080x720 with 1 Axes>"
      ]
     },
     "metadata": {
      "needs_background": "light"
     },
     "output_type": "display_data"
    }
   ],
   "source": [
    "figure =plt.figure(figsize=(15,10))\n",
    "dpr_mn1n.head()\n",
    "sns.lineplot(dpr_mn2n['Distance in km'],dpr_mn1n['price'])\n",
    "#sns.barplot(dpr_mn2n['Distance in km'],dpr_mn1n['price'])\n",
    "sns.scatterplot(dpr_mn2n['Distance in km'],dpr_mn1n['price'])"
   ]
  },
  {
   "cell_type": "code",
   "execution_count": 32,
   "metadata": {},
   "outputs": [
    {
     "data": {
      "text/html": [
       "<div>\n",
       "<style scoped>\n",
       "    .dataframe tbody tr th:only-of-type {\n",
       "        vertical-align: middle;\n",
       "    }\n",
       "\n",
       "    .dataframe tbody tr th {\n",
       "        vertical-align: top;\n",
       "    }\n",
       "\n",
       "    .dataframe thead th {\n",
       "        text-align: right;\n",
       "    }\n",
       "</style>\n",
       "<table border=\"1\" class=\"dataframe\">\n",
       "  <thead>\n",
       "    <tr style=\"text-align: right;\">\n",
       "      <th></th>\n",
       "      <th>id</th>\n",
       "      <th>name</th>\n",
       "      <th>host_id</th>\n",
       "      <th>host_name</th>\n",
       "      <th>neighbourhood_group</th>\n",
       "      <th>neighbourhood</th>\n",
       "      <th>latitude</th>\n",
       "      <th>longitude</th>\n",
       "      <th>room_type</th>\n",
       "      <th>price</th>\n",
       "      <th>minimum_nights</th>\n",
       "      <th>number_of_reviews</th>\n",
       "      <th>last_review</th>\n",
       "      <th>reviews_per_month</th>\n",
       "      <th>calculated_host_listings_count</th>\n",
       "      <th>availability_365</th>\n",
       "      <th>Distance in km</th>\n",
       "    </tr>\n",
       "  </thead>\n",
       "  <tbody>\n",
       "    <tr>\n",
       "      <th>19531</th>\n",
       "      <td>33456259</td>\n",
       "      <td>Beautiful upper west side apt share</td>\n",
       "      <td>8112314</td>\n",
       "      <td>Mena</td>\n",
       "      <td>Manhattan</td>\n",
       "      <td>Upper West Side</td>\n",
       "      <td>40.78399</td>\n",
       "      <td>-73.97330</td>\n",
       "      <td>Private room</td>\n",
       "      <td>65</td>\n",
       "      <td>1</td>\n",
       "      <td>4</td>\n",
       "      <td>2019-06-09</td>\n",
       "      <td>2.03</td>\n",
       "      <td>2</td>\n",
       "      <td>364</td>\n",
       "      <td>0.101342</td>\n",
       "    </tr>\n",
       "    <tr>\n",
       "      <th>33197</th>\n",
       "      <td>25024676</td>\n",
       "      <td>Cozy, tranquil bedroom steps from Central Park B</td>\n",
       "      <td>152195388</td>\n",
       "      <td>Rachel</td>\n",
       "      <td>Manhattan</td>\n",
       "      <td>Upper West Side</td>\n",
       "      <td>40.78371</td>\n",
       "      <td>-73.97358</td>\n",
       "      <td>Private room</td>\n",
       "      <td>105</td>\n",
       "      <td>20</td>\n",
       "      <td>5</td>\n",
       "      <td>2019-03-25</td>\n",
       "      <td>0.39</td>\n",
       "      <td>2</td>\n",
       "      <td>64</td>\n",
       "      <td>0.105810</td>\n",
       "    </tr>\n",
       "    <tr>\n",
       "      <th>16037</th>\n",
       "      <td>33118582</td>\n",
       "      <td>UPPER WEST SIDE: Renovated Private Cozy Room &amp; BR</td>\n",
       "      <td>15807180</td>\n",
       "      <td>Michael</td>\n",
       "      <td>Manhattan</td>\n",
       "      <td>Upper West Side</td>\n",
       "      <td>40.78536</td>\n",
       "      <td>-73.97116</td>\n",
       "      <td>Private room</td>\n",
       "      <td>82</td>\n",
       "      <td>2</td>\n",
       "      <td>26</td>\n",
       "      <td>2019-06-30</td>\n",
       "      <td>7.29</td>\n",
       "      <td>3</td>\n",
       "      <td>288</td>\n",
       "      <td>0.125701</td>\n",
       "    </tr>\n",
       "    <tr>\n",
       "      <th>4000</th>\n",
       "      <td>1763736</td>\n",
       "      <td>Charming Upper West Side 1 Bedroom</td>\n",
       "      <td>1304097</td>\n",
       "      <td>Edon</td>\n",
       "      <td>Manhattan</td>\n",
       "      <td>Upper West Side</td>\n",
       "      <td>40.78448</td>\n",
       "      <td>-73.97386</td>\n",
       "      <td>Private room</td>\n",
       "      <td>116</td>\n",
       "      <td>1</td>\n",
       "      <td>43</td>\n",
       "      <td>2018-08-01</td>\n",
       "      <td>0.63</td>\n",
       "      <td>1</td>\n",
       "      <td>0</td>\n",
       "      <td>0.135785</td>\n",
       "    </tr>\n",
       "    <tr>\n",
       "      <th>1267</th>\n",
       "      <td>21106395</td>\n",
       "      <td>Cozy, tranquil bedroom steps from Central Park A</td>\n",
       "      <td>152195388</td>\n",
       "      <td>Rachel</td>\n",
       "      <td>Manhattan</td>\n",
       "      <td>Upper West Side</td>\n",
       "      <td>40.78489</td>\n",
       "      <td>-73.97345</td>\n",
       "      <td>Private room</td>\n",
       "      <td>99</td>\n",
       "      <td>20</td>\n",
       "      <td>7</td>\n",
       "      <td>2019-03-31</td>\n",
       "      <td>0.42</td>\n",
       "      <td>2</td>\n",
       "      <td>125</td>\n",
       "      <td>0.137432</td>\n",
       "    </tr>\n",
       "  </tbody>\n",
       "</table>\n",
       "</div>"
      ],
      "text/plain": [
       "             id                                               name    host_id  \\\n",
       "19531  33456259                Beautiful upper west side apt share    8112314   \n",
       "33197  25024676   Cozy, tranquil bedroom steps from Central Park B  152195388   \n",
       "16037  33118582  UPPER WEST SIDE: Renovated Private Cozy Room & BR   15807180   \n",
       "4000    1763736                 Charming Upper West Side 1 Bedroom    1304097   \n",
       "1267   21106395   Cozy, tranquil bedroom steps from Central Park A  152195388   \n",
       "\n",
       "      host_name neighbourhood_group    neighbourhood  latitude  longitude  \\\n",
       "19531      Mena           Manhattan  Upper West Side  40.78399  -73.97330   \n",
       "33197    Rachel           Manhattan  Upper West Side  40.78371  -73.97358   \n",
       "16037   Michael           Manhattan  Upper West Side  40.78536  -73.97116   \n",
       "4000       Edon           Manhattan  Upper West Side  40.78448  -73.97386   \n",
       "1267     Rachel           Manhattan  Upper West Side  40.78489  -73.97345   \n",
       "\n",
       "          room_type  price  minimum_nights  number_of_reviews last_review  \\\n",
       "19531  Private room     65               1                  4  2019-06-09   \n",
       "33197  Private room    105              20                  5  2019-03-25   \n",
       "16037  Private room     82               2                 26  2019-06-30   \n",
       "4000   Private room    116               1                 43  2018-08-01   \n",
       "1267   Private room     99              20                  7  2019-03-31   \n",
       "\n",
       "       reviews_per_month  calculated_host_listings_count  availability_365  \\\n",
       "19531               2.03                               2               364   \n",
       "33197               0.39                               2                64   \n",
       "16037               7.29                               3               288   \n",
       "4000                0.63                               1                 0   \n",
       "1267                0.42                               2               125   \n",
       "\n",
       "       Distance in km  \n",
       "19531        0.101342  \n",
       "33197        0.105810  \n",
       "16037        0.125701  \n",
       "4000         0.135785  \n",
       "1267         0.137432  "
      ]
     },
     "execution_count": 32,
     "metadata": {},
     "output_type": "execute_result"
    }
   ],
   "source": [
    "dpr_mn2n.head()"
   ]
  },
  {
   "cell_type": "code",
   "execution_count": null,
   "metadata": {},
   "outputs": [],
   "source": []
  }
 ],
 "metadata": {
  "kernelspec": {
   "display_name": "Python 3",
   "language": "python",
   "name": "python3"
  },
  "language_info": {
   "codemirror_mode": {
    "name": "ipython",
    "version": 3
   },
   "file_extension": ".py",
   "mimetype": "text/x-python",
   "name": "python",
   "nbconvert_exporter": "python",
   "pygments_lexer": "ipython3",
   "version": "3.8.3"
  }
 },
 "nbformat": 4,
 "nbformat_minor": 4
}
