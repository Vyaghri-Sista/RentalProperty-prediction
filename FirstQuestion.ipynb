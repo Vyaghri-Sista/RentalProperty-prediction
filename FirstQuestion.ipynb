{
 "cells": [
  {
   "cell_type": "markdown",
   "metadata": {},
   "source": [
    "# Based on the room type-one has to find the prices in different neighbourhood_group"
   ]
  },
  {
   "cell_type": "code",
   "execution_count": 1,
   "metadata": {},
   "outputs": [
    {
     "data": {
      "text/plain": [
       "'C:\\\\Users\\\\svlsrao\\\\Documents\\\\First-Hackathon'"
      ]
     },
     "execution_count": 1,
     "metadata": {},
     "output_type": "execute_result"
    }
   ],
   "source": [
    "import os\n",
    "import pandas as pd\n",
    "import numpy as np\n",
    "import seaborn as sns\n",
    "import matplotlib.pyplot as plt\n",
    "%matplotlib inline\n",
    "os.getcwd()"
   ]
  },
  {
   "cell_type": "code",
   "execution_count": 2,
   "metadata": {},
   "outputs": [
    {
     "name": "stdout",
     "output_type": "stream",
     "text": [
      "<class 'pandas.core.frame.DataFrame'>\n",
      "RangeIndex: 34226 entries, 0 to 34225\n",
      "Data columns (total 16 columns):\n",
      " #   Column                          Non-Null Count  Dtype  \n",
      "---  ------                          --------------  -----  \n",
      " 0   id                              34226 non-null  int64  \n",
      " 1   name                            34214 non-null  object \n",
      " 2   host_id                         34226 non-null  int64  \n",
      " 3   host_name                       34213 non-null  object \n",
      " 4   neighbourhood_group             34226 non-null  object \n",
      " 5   neighbourhood                   34226 non-null  object \n",
      " 6   latitude                        34226 non-null  float64\n",
      " 7   longitude                       34226 non-null  float64\n",
      " 8   room_type                       34226 non-null  object \n",
      " 9   price                           34226 non-null  int64  \n",
      " 10  minimum_nights                  34226 non-null  int64  \n",
      " 11  number_of_reviews               34226 non-null  int64  \n",
      " 12  last_review                     27244 non-null  object \n",
      " 13  reviews_per_month               27244 non-null  float64\n",
      " 14  calculated_host_listings_count  34226 non-null  int64  \n",
      " 15  availability_365                34226 non-null  int64  \n",
      "dtypes: float64(3), int64(7), object(6)\n",
      "memory usage: 4.2+ MB\n"
     ]
    }
   ],
   "source": [
    "path='C:\\\\Users\\\\svlsrao\\\\Documents\\\\First-Hackathon/file/Train.csv'\n",
    "data=pd.read_csv(path)\n",
    "data.info()"
   ]
  },
  {
   "cell_type": "markdown",
   "metadata": {},
   "source": [
    "# Find the unique type of rooms"
   ]
  },
  {
   "cell_type": "code",
   "execution_count": 3,
   "metadata": {},
   "outputs": [
    {
     "data": {
      "text/plain": [
       "array(['Private room', 'Entire home/apt', 'Shared room'], dtype=object)"
      ]
     },
     "execution_count": 3,
     "metadata": {},
     "output_type": "execute_result"
    }
   ],
   "source": [
    "data['room_type'].unique()"
   ]
  },
  {
   "cell_type": "markdown",
   "metadata": {},
   "source": [
    "# dataframe containing only Private room"
   ]
  },
  {
   "cell_type": "code",
   "execution_count": 4,
   "metadata": {},
   "outputs": [],
   "source": [
    "pr=data.loc[data['room_type']=='Private room']"
   ]
  },
  {
   "cell_type": "markdown",
   "metadata": {},
   "source": [
    "# dataframe containing only Entire home/apt"
   ]
  },
  {
   "cell_type": "code",
   "execution_count": 5,
   "metadata": {},
   "outputs": [],
   "source": [
    "home=data.loc[data['room_type']=='Entire home/apt']"
   ]
  },
  {
   "cell_type": "markdown",
   "metadata": {},
   "source": [
    "# dataframe containig only Shared room"
   ]
  },
  {
   "cell_type": "code",
   "execution_count": 6,
   "metadata": {},
   "outputs": [],
   "source": [
    "Sr=data.loc[data['room_type']=='Shared room']"
   ]
  },
  {
   "cell_type": "code",
   "execution_count": 7,
   "metadata": {},
   "outputs": [
    {
     "data": {
      "text/plain": [
       "(34226, 16)"
      ]
     },
     "execution_count": 7,
     "metadata": {},
     "output_type": "execute_result"
    }
   ],
   "source": [
    "data.shape"
   ]
  },
  {
   "cell_type": "code",
   "execution_count": 8,
   "metadata": {},
   "outputs": [
    {
     "data": {
      "text/plain": [
       "(15594, 16)"
      ]
     },
     "execution_count": 8,
     "metadata": {},
     "output_type": "execute_result"
    }
   ],
   "source": [
    "pr.shape"
   ]
  },
  {
   "cell_type": "code",
   "execution_count": 9,
   "metadata": {},
   "outputs": [
    {
     "data": {
      "text/plain": [
       "(17829, 16)"
      ]
     },
     "execution_count": 9,
     "metadata": {},
     "output_type": "execute_result"
    }
   ],
   "source": [
    "home.shape"
   ]
  },
  {
   "cell_type": "code",
   "execution_count": 10,
   "metadata": {},
   "outputs": [
    {
     "data": {
      "text/plain": [
       "(803, 16)"
      ]
     },
     "execution_count": 10,
     "metadata": {},
     "output_type": "execute_result"
    }
   ],
   "source": [
    "Sr.shape"
   ]
  },
  {
   "cell_type": "markdown",
   "metadata": {},
   "source": [
    "# Grouping based on the neighbourhood_group"
   ]
  },
  {
   "cell_type": "code",
   "execution_count": 11,
   "metadata": {},
   "outputs": [
    {
     "data": {
      "text/plain": [
       "array(['Manhattan', 'Brooklyn', 'Queens', 'Staten Island', 'Bronx'],\n",
       "      dtype=object)"
      ]
     },
     "execution_count": 11,
     "metadata": {},
     "output_type": "execute_result"
    }
   ],
   "source": [
    "pr['neighbourhood_group'].unique()"
   ]
  },
  {
   "cell_type": "code",
   "execution_count": 12,
   "metadata": {},
   "outputs": [
    {
     "data": {
      "text/html": [
       "<div>\n",
       "<style scoped>\n",
       "    .dataframe tbody tr th:only-of-type {\n",
       "        vertical-align: middle;\n",
       "    }\n",
       "\n",
       "    .dataframe tbody tr th {\n",
       "        vertical-align: top;\n",
       "    }\n",
       "\n",
       "    .dataframe thead th {\n",
       "        text-align: right;\n",
       "    }\n",
       "</style>\n",
       "<table border=\"1\" class=\"dataframe\">\n",
       "  <thead>\n",
       "    <tr style=\"text-align: right;\">\n",
       "      <th></th>\n",
       "      <th>id</th>\n",
       "      <th>host_id</th>\n",
       "      <th>latitude</th>\n",
       "      <th>longitude</th>\n",
       "      <th>price</th>\n",
       "      <th>minimum_nights</th>\n",
       "      <th>number_of_reviews</th>\n",
       "      <th>reviews_per_month</th>\n",
       "      <th>calculated_host_listings_count</th>\n",
       "      <th>availability_365</th>\n",
       "    </tr>\n",
       "    <tr>\n",
       "      <th>neighbourhood_group</th>\n",
       "      <th></th>\n",
       "      <th></th>\n",
       "      <th></th>\n",
       "      <th></th>\n",
       "      <th></th>\n",
       "      <th></th>\n",
       "      <th></th>\n",
       "      <th></th>\n",
       "      <th></th>\n",
       "      <th></th>\n",
       "    </tr>\n",
       "  </thead>\n",
       "  <tbody>\n",
       "  </tbody>\n",
       "</table>\n",
       "</div>"
      ],
      "text/plain": [
       "Empty DataFrame\n",
       "Columns: [id, host_id, latitude, longitude, price, minimum_nights, number_of_reviews, reviews_per_month, calculated_host_listings_count, availability_365]\n",
       "Index: []"
      ]
     },
     "execution_count": 12,
     "metadata": {},
     "output_type": "execute_result"
    }
   ],
   "source": [
    "pr.groupby(pr['neighbourhood_group']).mean()\n",
    "home.groupby(home['neighbourhood_group']).mean()\n",
    "Sr.groupby(pr['neighbourhood_group']).mean()"
   ]
  },
  {
   "cell_type": "code",
   "execution_count": null,
   "metadata": {},
   "outputs": [],
   "source": []
  },
  {
   "cell_type": "markdown",
   "metadata": {},
   "source": [
    "# Now plot the average price of the individual room type in different neighbourhood_groups"
   ]
  },
  {
   "cell_type": "code",
   "execution_count": 27,
   "metadata": {},
   "outputs": [
    {
     "data": {
      "text/plain": [
       "Text(0, 0.5, 'Price ($/night)')"
      ]
     },
     "execution_count": 27,
     "metadata": {},
     "output_type": "execute_result"
    },
    {
     "data": {
      "image/png": "[encoded data removed]",
      "text/plain": [
       "<Figure size 432x288 with 1 Axes>"
      ]
     },
     "metadata": {
      "needs_background": "light"
     },
     "output_type": "display_data"
    }
   ],
   "source": [
    "sns.barplot(pr['neighbourhood_group'],pr['price'])\n",
    "plt.title('Average price of a private room per night')\n",
    "plt.xlabel('Different Areas in Newyork City')\n",
    "plt.ylabel('Price ($/night)')"
   ]
  },
  {
   "cell_type": "code",
   "execution_count": 28,
   "metadata": {},
   "outputs": [
    {
     "data": {
      "text/plain": [
       "Text(0, 0.5, 'Price ($/night)')"
      ]
     },
     "execution_count": 28,
     "metadata": {},
     "output_type": "execute_result"
    },
    {
     "data": {
      "image/png": "[encoded data removed]",
      "text/plain": [
       "<Figure size 432x288 with 1 Axes>"
      ]
     },
     "metadata": {
      "needs_background": "light"
     },
     "output_type": "display_data"
    }
   ],
   "source": [
    "sns.barplot(home['neighbourhood_group'],home['price'])\n",
    "plt.title('Average price of a Entire home/Apartment per night')\n",
    "plt.xlabel('Different Areas in Newyork City')\n",
    "plt.ylabel('Price ($/night)')"
   ]
  },
  {
   "cell_type": "code",
   "execution_count": 29,
   "metadata": {},
   "outputs": [
    {
     "data": {
      "text/plain": [
       "Text(0, 0.5, 'Price ($/night)')"
      ]
     },
     "execution_count": 29,
     "metadata": {},
     "output_type": "execute_result"
    },
    {
     "data": {
      "image/png": "[encoded data removed]",
      "text/plain": [
       "<Figure size 432x288 with 1 Axes>"
      ]
     },
     "metadata": {
      "needs_background": "light"
     },
     "output_type": "display_data"
    }
   ],
   "source": [
    "sns.barplot(Sr['neighbourhood_group'],Sr['price'])\n",
    "plt.title('Average price of a Shared room per night')\n",
    "plt.xlabel('Different Areas in Newyork City')\n",
    "plt.ylabel('Price ($/night)')"
   ]
  },
  {
   "cell_type": "code",
   "execution_count": 54,
   "metadata": {},
   "outputs": [
    {
     "data": {
      "text/html": [
       "<div>\n",
       "<style scoped>\n",
       "    .dataframe tbody tr th:only-of-type {\n",
       "        vertical-align: middle;\n",
       "    }\n",
       "\n",
       "    .dataframe tbody tr th {\n",
       "        vertical-align: top;\n",
       "    }\n",
       "\n",
       "    .dataframe thead th {\n",
       "        text-align: right;\n",
       "    }\n",
       "</style>\n",
       "<table border=\"1\" class=\"dataframe\">\n",
       "  <thead>\n",
       "    <tr style=\"text-align: right;\">\n",
       "      <th></th>\n",
       "      <th>id</th>\n",
       "      <th>host_id</th>\n",
       "      <th>latitude</th>\n",
       "      <th>longitude</th>\n",
       "      <th>price</th>\n",
       "      <th>minimum_nights</th>\n",
       "      <th>number_of_reviews</th>\n",
       "      <th>reviews_per_month</th>\n",
       "      <th>calculated_host_listings_count</th>\n",
       "      <th>availability_365</th>\n",
       "    </tr>\n",
       "  </thead>\n",
       "  <tbody>\n",
       "    <tr>\n",
       "      <th>count</th>\n",
       "      <td>3.400000e+02</td>\n",
       "      <td>3.400000e+02</td>\n",
       "      <td>340.000000</td>\n",
       "      <td>340.000000</td>\n",
       "      <td>340.000000</td>\n",
       "      <td>340.000000</td>\n",
       "      <td>340.000000</td>\n",
       "      <td>257.000000</td>\n",
       "      <td>340.000000</td>\n",
       "      <td>340.000000</td>\n",
       "    </tr>\n",
       "    <tr>\n",
       "      <th>mean</th>\n",
       "      <td>2.149793e+07</td>\n",
       "      <td>1.001471e+08</td>\n",
       "      <td>40.769129</td>\n",
       "      <td>-73.972632</td>\n",
       "      <td>88.429412</td>\n",
       "      <td>7.570588</td>\n",
       "      <td>21.326471</td>\n",
       "      <td>1.779961</td>\n",
       "      <td>3.688235</td>\n",
       "      <td>141.591176</td>\n",
       "    </tr>\n",
       "    <tr>\n",
       "      <th>std</th>\n",
       "      <td>1.094318e+07</td>\n",
       "      <td>9.568637e+07</td>\n",
       "      <td>0.037006</td>\n",
       "      <td>0.020992</td>\n",
       "      <td>91.683136</td>\n",
       "      <td>55.320768</td>\n",
       "      <td>37.212567</td>\n",
       "      <td>1.734454</td>\n",
       "      <td>5.200111</td>\n",
       "      <td>145.946410</td>\n",
       "    </tr>\n",
       "    <tr>\n",
       "      <th>min</th>\n",
       "      <td>1.204800e+04</td>\n",
       "      <td>7.549000e+03</td>\n",
       "      <td>40.703720</td>\n",
       "      <td>-74.015640</td>\n",
       "      <td>10.000000</td>\n",
       "      <td>1.000000</td>\n",
       "      <td>0.000000</td>\n",
       "      <td>0.020000</td>\n",
       "      <td>1.000000</td>\n",
       "      <td>0.000000</td>\n",
       "    </tr>\n",
       "    <tr>\n",
       "      <th>25%</th>\n",
       "      <td>1.199484e+07</td>\n",
       "      <td>1.860110e+07</td>\n",
       "      <td>40.743913</td>\n",
       "      <td>-73.988642</td>\n",
       "      <td>50.000000</td>\n",
       "      <td>1.000000</td>\n",
       "      <td>1.000000</td>\n",
       "      <td>0.380000</td>\n",
       "      <td>1.000000</td>\n",
       "      <td>0.000000</td>\n",
       "    </tr>\n",
       "    <tr>\n",
       "      <th>50%</th>\n",
       "      <td>2.301327e+07</td>\n",
       "      <td>4.510284e+07</td>\n",
       "      <td>40.765430</td>\n",
       "      <td>-73.980935</td>\n",
       "      <td>69.000000</td>\n",
       "      <td>1.000000</td>\n",
       "      <td>5.500000</td>\n",
       "      <td>1.310000</td>\n",
       "      <td>2.000000</td>\n",
       "      <td>83.000000</td>\n",
       "    </tr>\n",
       "    <tr>\n",
       "      <th>75%</th>\n",
       "      <td>3.121772e+07</td>\n",
       "      <td>1.920155e+08</td>\n",
       "      <td>40.793650</td>\n",
       "      <td>-73.953052</td>\n",
       "      <td>89.250000</td>\n",
       "      <td>2.000000</td>\n",
       "      <td>23.000000</td>\n",
       "      <td>2.700000</td>\n",
       "      <td>4.000000</td>\n",
       "      <td>320.000000</td>\n",
       "    </tr>\n",
       "    <tr>\n",
       "      <th>max</th>\n",
       "      <td>3.648561e+07</td>\n",
       "      <td>2.724777e+08</td>\n",
       "      <td>40.869310</td>\n",
       "      <td>-73.916820</td>\n",
       "      <td>1000.000000</td>\n",
       "      <td>999.000000</td>\n",
       "      <td>229.000000</td>\n",
       "      <td>9.120000</td>\n",
       "      <td>28.000000</td>\n",
       "      <td>365.000000</td>\n",
       "    </tr>\n",
       "  </tbody>\n",
       "</table>\n",
       "</div>"
      ],
      "text/plain": [
       "                 id       host_id    latitude   longitude        price  \\\n",
       "count  3.400000e+02  3.400000e+02  340.000000  340.000000   340.000000   \n",
       "mean   2.149793e+07  1.001471e+08   40.769129  -73.972632    88.429412   \n",
       "std    1.094318e+07  9.568637e+07    0.037006    0.020992    91.683136   \n",
       "min    1.204800e+04  7.549000e+03   40.703720  -74.015640    10.000000   \n",
       "25%    1.199484e+07  1.860110e+07   40.743913  -73.988642    50.000000   \n",
       "50%    2.301327e+07  4.510284e+07   40.765430  -73.980935    69.000000   \n",
       "75%    3.121772e+07  1.920155e+08   40.793650  -73.953052    89.250000   \n",
       "max    3.648561e+07  2.724777e+08   40.869310  -73.916820  1000.000000   \n",
       "\n",
       "       minimum_nights  number_of_reviews  reviews_per_month  \\\n",
       "count      340.000000         340.000000         257.000000   \n",
       "mean         7.570588          21.326471           1.779961   \n",
       "std         55.320768          37.212567           1.734454   \n",
       "min          1.000000           0.000000           0.020000   \n",
       "25%          1.000000           1.000000           0.380000   \n",
       "50%          1.000000           5.500000           1.310000   \n",
       "75%          2.000000          23.000000           2.700000   \n",
       "max        999.000000         229.000000           9.120000   \n",
       "\n",
       "       calculated_host_listings_count  availability_365  \n",
       "count                      340.000000        340.000000  \n",
       "mean                         3.688235        141.591176  \n",
       "std                          5.200111        145.946410  \n",
       "min                          1.000000          0.000000  \n",
       "25%                          1.000000          0.000000  \n",
       "50%                          2.000000         83.000000  \n",
       "75%                          4.000000        320.000000  \n",
       "max                         28.000000        365.000000  "
      ]
     },
     "execution_count": 54,
     "metadata": {},
     "output_type": "execute_result"
    }
   ],
   "source": [
    "s1=Sr.loc[Sr['neighbourhood_group']=='Manhattan']\n",
    "s1.describe()"
   ]
  },
  {
   "cell_type": "code",
   "execution_count": 47,
   "metadata": {},
   "outputs": [
    {
     "ename": "AttributeError",
     "evalue": "'AxesSubplot' object has no attribute 'barplot'",
     "output_type": "error",
     "traceback": [
      "\u001b[1;31m---------------------------------------------------------------------------\u001b[0m",
      "\u001b[1;31mAttributeError\u001b[0m                            Traceback (most recent call last)",
      "\u001b[1;32m<ipython-input-47-438f85e6b08b>\u001b[0m in \u001b[0;36m<module>\u001b[1;34m\u001b[0m\n\u001b[0;32m      2\u001b[0m \u001b[1;33m\u001b[0m\u001b[0m\n\u001b[0;32m      3\u001b[0m \u001b[1;31m#a_1.b\u001b[0m\u001b[1;33m\u001b[0m\u001b[1;33m\u001b[0m\u001b[1;33m\u001b[0m\u001b[0m\n\u001b[1;32m----> 4\u001b[1;33m \u001b[0ma_1\u001b[0m\u001b[1;33m.\u001b[0m\u001b[0mbarplot\u001b[0m\u001b[1;33m(\u001b[0m\u001b[0mpr\u001b[0m\u001b[1;33m[\u001b[0m\u001b[1;34m'neighbourhood_group'\u001b[0m\u001b[1;33m]\u001b[0m\u001b[1;33m,\u001b[0m\u001b[0mpr\u001b[0m\u001b[1;33m[\u001b[0m\u001b[1;34m'price'\u001b[0m\u001b[1;33m]\u001b[0m\u001b[1;33m)\u001b[0m\u001b[1;33m\u001b[0m\u001b[1;33m\u001b[0m\u001b[0m\n\u001b[0m\u001b[0;32m      5\u001b[0m \u001b[0ma_2\u001b[0m\u001b[1;33m.\u001b[0m\u001b[0mbarplot\u001b[0m\u001b[1;33m(\u001b[0m\u001b[0mhome\u001b[0m\u001b[1;33m[\u001b[0m\u001b[1;34m'neighbourhood_group'\u001b[0m\u001b[1;33m]\u001b[0m\u001b[1;33m,\u001b[0m\u001b[0mhome\u001b[0m\u001b[1;33m[\u001b[0m\u001b[1;34m'price'\u001b[0m\u001b[1;33m]\u001b[0m\u001b[1;33m)\u001b[0m\u001b[1;33m\u001b[0m\u001b[1;33m\u001b[0m\u001b[0m\n\u001b[0;32m      6\u001b[0m \u001b[0ma_3\u001b[0m\u001b[1;33m.\u001b[0m\u001b[0mbarplot\u001b[0m\u001b[1;33m(\u001b[0m\u001b[0mSr\u001b[0m\u001b[1;33m[\u001b[0m\u001b[1;34m'neighbourhood_group'\u001b[0m\u001b[1;33m]\u001b[0m\u001b[1;33m,\u001b[0m\u001b[0mSr\u001b[0m\u001b[1;33m[\u001b[0m\u001b[1;34m'price'\u001b[0m\u001b[1;33m]\u001b[0m\u001b[1;33m)\u001b[0m\u001b[1;33m\u001b[0m\u001b[1;33m\u001b[0m\u001b[0m\n",
      "\u001b[1;31mAttributeError\u001b[0m: 'AxesSubplot' object has no attribute 'barplot'"
     ]
    },
    {
     "data": {
      "image/png": "[encoded data removed]",
      "text/plain": [
       "<Figure size 1440x432 with 3 Axes>"
      ]
     },
     "metadata": {
      "needs_background": "light"
     },
     "output_type": "display_data"
    }
   ],
   "source": [
    "fig, (a_1,a_2,a_3)=plt.subplots(1,3,figsize=(20,6))\n",
    "a_1.\n",
    "#a_1.b\n",
    "a_1.barplot(pr['neighbourhood_group'],pr['price'])\n",
    "a_2.barplot(home['neighbourhood_group'],home['price'])\n",
    "a_3.barplot(Sr['neighbourhood_group'],Sr['price'])"
   ]
  },
  {
   "cell_type": "code",
   "execution_count": 44,
   "metadata": {},
   "outputs": [],
   "source": [
    "p1=data.groupby([data['room_type'],data['neighbourhood_group']])"
   ]
  },
  {
   "cell_type": "code",
   "execution_count": 45,
   "metadata": {},
   "outputs": [
    {
     "data": {
      "text/html": [
       "<div>\n",
       "<style scoped>\n",
       "    .dataframe tbody tr th:only-of-type {\n",
       "        vertical-align: middle;\n",
       "    }\n",
       "\n",
       "    .dataframe tbody tr th {\n",
       "        vertical-align: top;\n",
       "    }\n",
       "\n",
       "    .dataframe thead th {\n",
       "        text-align: right;\n",
       "    }\n",
       "</style>\n",
       "<table border=\"1\" class=\"dataframe\">\n",
       "  <thead>\n",
       "    <tr style=\"text-align: right;\">\n",
       "      <th></th>\n",
       "      <th></th>\n",
       "      <th>id</th>\n",
       "      <th>host_id</th>\n",
       "      <th>latitude</th>\n",
       "      <th>longitude</th>\n",
       "      <th>price</th>\n",
       "      <th>minimum_nights</th>\n",
       "      <th>number_of_reviews</th>\n",
       "      <th>reviews_per_month</th>\n",
       "      <th>calculated_host_listings_count</th>\n",
       "      <th>availability_365</th>\n",
       "    </tr>\n",
       "    <tr>\n",
       "      <th>room_type</th>\n",
       "      <th>neighbourhood_group</th>\n",
       "      <th></th>\n",
       "      <th></th>\n",
       "      <th></th>\n",
       "      <th></th>\n",
       "      <th></th>\n",
       "      <th></th>\n",
       "      <th></th>\n",
       "      <th></th>\n",
       "      <th></th>\n",
       "      <th></th>\n",
       "    </tr>\n",
       "  </thead>\n",
       "  <tbody>\n",
       "    <tr>\n",
       "      <th rowspan=\"5\" valign=\"top\">Entire home/apt</th>\n",
       "      <th>Bronx</th>\n",
       "      <td>2.227957e+07</td>\n",
       "      <td>9.855048e+07</td>\n",
       "      <td>40.848604</td>\n",
       "      <td>-73.879279</td>\n",
       "      <td>127.455224</td>\n",
       "      <td>5.641791</td>\n",
       "      <td>34.638060</td>\n",
       "      <td>2.356787</td>\n",
       "      <td>1.843284</td>\n",
       "      <td>163.873134</td>\n",
       "    </tr>\n",
       "    <tr>\n",
       "      <th>Brooklyn</th>\n",
       "      <td>1.728884e+07</td>\n",
       "      <td>4.831748e+07</td>\n",
       "      <td>40.685083</td>\n",
       "      <td>-73.955645</td>\n",
       "      <td>181.116525</td>\n",
       "      <td>6.553271</td>\n",
       "      <td>27.924899</td>\n",
       "      <td>1.320865</td>\n",
       "      <td>1.757115</td>\n",
       "      <td>97.323946</td>\n",
       "    </tr>\n",
       "    <tr>\n",
       "      <th>Manhattan</th>\n",
       "      <td>1.861117e+07</td>\n",
       "      <td>6.570614e+07</td>\n",
       "      <td>40.758343</td>\n",
       "      <td>-73.978399</td>\n",
       "      <td>249.621554</td>\n",
       "      <td>10.586315</td>\n",
       "      <td>17.969409</td>\n",
       "      <td>1.154487</td>\n",
       "      <td>18.823695</td>\n",
       "      <td>116.637228</td>\n",
       "    </tr>\n",
       "    <tr>\n",
       "      <th>Queens</th>\n",
       "      <td>2.125729e+07</td>\n",
       "      <td>8.715175e+07</td>\n",
       "      <td>40.728699</td>\n",
       "      <td>-73.874236</td>\n",
       "      <td>148.470746</td>\n",
       "      <td>4.911231</td>\n",
       "      <td>28.642905</td>\n",
       "      <td>1.979026</td>\n",
       "      <td>1.698722</td>\n",
       "      <td>134.270343</td>\n",
       "    </tr>\n",
       "    <tr>\n",
       "      <th>Staten Island</th>\n",
       "      <td>2.173245e+07</td>\n",
       "      <td>1.004627e+08</td>\n",
       "      <td>40.604377</td>\n",
       "      <td>-74.111771</td>\n",
       "      <td>187.964286</td>\n",
       "      <td>4.455357</td>\n",
       "      <td>32.750000</td>\n",
       "      <td>1.966061</td>\n",
       "      <td>1.508929</td>\n",
       "      <td>183.508929</td>\n",
       "    </tr>\n",
       "    <tr>\n",
       "      <th rowspan=\"5\" valign=\"top\">Private room</th>\n",
       "      <th>Bronx</th>\n",
       "      <td>2.247721e+07</td>\n",
       "      <td>1.073885e+08</td>\n",
       "      <td>40.849390</td>\n",
       "      <td>-73.884740</td>\n",
       "      <td>67.337691</td>\n",
       "      <td>4.076253</td>\n",
       "      <td>24.803922</td>\n",
       "      <td>1.635956</td>\n",
       "      <td>2.435730</td>\n",
       "      <td>174.851852</td>\n",
       "    </tr>\n",
       "    <tr>\n",
       "      <th>Brooklyn</th>\n",
       "      <td>1.884483e+07</td>\n",
       "      <td>6.183279e+07</td>\n",
       "      <td>40.685316</td>\n",
       "      <td>-73.947062</td>\n",
       "      <td>76.117872</td>\n",
       "      <td>5.449220</td>\n",
       "      <td>21.343262</td>\n",
       "      <td>1.251944</td>\n",
       "      <td>2.538014</td>\n",
       "      <td>102.119716</td>\n",
       "    </tr>\n",
       "    <tr>\n",
       "      <th>Manhattan</th>\n",
       "      <td>1.880547e+07</td>\n",
       "      <td>6.897090e+07</td>\n",
       "      <td>40.776038</td>\n",
       "      <td>-73.968446</td>\n",
       "      <td>117.323456</td>\n",
       "      <td>5.172795</td>\n",
       "      <td>26.509461</td>\n",
       "      <td>1.451963</td>\n",
       "      <td>3.128169</td>\n",
       "      <td>102.317208</td>\n",
       "    </tr>\n",
       "    <tr>\n",
       "      <th>Queens</th>\n",
       "      <td>2.192815e+07</td>\n",
       "      <td>1.013265e+08</td>\n",
       "      <td>40.733137</td>\n",
       "      <td>-73.871736</td>\n",
       "      <td>68.716412</td>\n",
       "      <td>4.962160</td>\n",
       "      <td>27.195153</td>\n",
       "      <td>1.932877</td>\n",
       "      <td>5.562075</td>\n",
       "      <td>148.636480</td>\n",
       "    </tr>\n",
       "    <tr>\n",
       "      <th>Staten Island</th>\n",
       "      <td>2.111260e+07</td>\n",
       "      <td>9.595605e+07</td>\n",
       "      <td>40.613880</td>\n",
       "      <td>-74.103912</td>\n",
       "      <td>61.198473</td>\n",
       "      <td>3.534351</td>\n",
       "      <td>32.541985</td>\n",
       "      <td>1.712870</td>\n",
       "      <td>2.877863</td>\n",
       "      <td>219.778626</td>\n",
       "    </tr>\n",
       "    <tr>\n",
       "      <th rowspan=\"5\" valign=\"top\">Shared room</th>\n",
       "      <th>Bronx</th>\n",
       "      <td>2.642151e+07</td>\n",
       "      <td>9.455111e+07</td>\n",
       "      <td>40.839409</td>\n",
       "      <td>-73.895011</td>\n",
       "      <td>63.550000</td>\n",
       "      <td>4.225000</td>\n",
       "      <td>8.375000</td>\n",
       "      <td>1.245937</td>\n",
       "      <td>3.825000</td>\n",
       "      <td>159.800000</td>\n",
       "    </tr>\n",
       "    <tr>\n",
       "      <th>Brooklyn</th>\n",
       "      <td>2.361621e+07</td>\n",
       "      <td>1.062777e+08</td>\n",
       "      <td>40.669227</td>\n",
       "      <td>-73.948769</td>\n",
       "      <td>52.257353</td>\n",
       "      <td>7.180147</td>\n",
       "      <td>13.113971</td>\n",
       "      <td>1.090885</td>\n",
       "      <td>6.250000</td>\n",
       "      <td>174.691176</td>\n",
       "    </tr>\n",
       "    <tr>\n",
       "      <th>Manhattan</th>\n",
       "      <td>2.149793e+07</td>\n",
       "      <td>1.001471e+08</td>\n",
       "      <td>40.769129</td>\n",
       "      <td>-73.972632</td>\n",
       "      <td>88.429412</td>\n",
       "      <td>7.570588</td>\n",
       "      <td>21.326471</td>\n",
       "      <td>1.779961</td>\n",
       "      <td>3.688235</td>\n",
       "      <td>141.591176</td>\n",
       "    </tr>\n",
       "    <tr>\n",
       "      <th>Queens</th>\n",
       "      <td>2.503818e+07</td>\n",
       "      <td>1.077883e+08</td>\n",
       "      <td>40.735630</td>\n",
       "      <td>-73.875409</td>\n",
       "      <td>73.767123</td>\n",
       "      <td>4.554795</td>\n",
       "      <td>11.267123</td>\n",
       "      <td>1.440636</td>\n",
       "      <td>3.753425</td>\n",
       "      <td>187.164384</td>\n",
       "    </tr>\n",
       "    <tr>\n",
       "      <th>Staten Island</th>\n",
       "      <td>3.231205e+07</td>\n",
       "      <td>8.160234e+07</td>\n",
       "      <td>40.612166</td>\n",
       "      <td>-74.092396</td>\n",
       "      <td>63.400000</td>\n",
       "      <td>1.800000</td>\n",
       "      <td>2.200000</td>\n",
       "      <td>2.865000</td>\n",
       "      <td>5.600000</td>\n",
       "      <td>88.200000</td>\n",
       "    </tr>\n",
       "  </tbody>\n",
       "</table>\n",
       "</div>"
      ],
      "text/plain": [
       "                                               id       host_id   latitude  \\\n",
       "room_type       neighbourhood_group                                          \n",
       "Entire home/apt Bronx                2.227957e+07  9.855048e+07  40.848604   \n",
       "                Brooklyn             1.728884e+07  4.831748e+07  40.685083   \n",
       "                Manhattan            1.861117e+07  6.570614e+07  40.758343   \n",
       "                Queens               2.125729e+07  8.715175e+07  40.728699   \n",
       "                Staten Island        2.173245e+07  1.004627e+08  40.604377   \n",
       "Private room    Bronx                2.247721e+07  1.073885e+08  40.849390   \n",
       "                Brooklyn             1.884483e+07  6.183279e+07  40.685316   \n",
       "                Manhattan            1.880547e+07  6.897090e+07  40.776038   \n",
       "                Queens               2.192815e+07  1.013265e+08  40.733137   \n",
       "                Staten Island        2.111260e+07  9.595605e+07  40.613880   \n",
       "Shared room     Bronx                2.642151e+07  9.455111e+07  40.839409   \n",
       "                Brooklyn             2.361621e+07  1.062777e+08  40.669227   \n",
       "                Manhattan            2.149793e+07  1.001471e+08  40.769129   \n",
       "                Queens               2.503818e+07  1.077883e+08  40.735630   \n",
       "                Staten Island        3.231205e+07  8.160234e+07  40.612166   \n",
       "\n",
       "                                     longitude       price  minimum_nights  \\\n",
       "room_type       neighbourhood_group                                          \n",
       "Entire home/apt Bronx               -73.879279  127.455224        5.641791   \n",
       "                Brooklyn            -73.955645  181.116525        6.553271   \n",
       "                Manhattan           -73.978399  249.621554       10.586315   \n",
       "                Queens              -73.874236  148.470746        4.911231   \n",
       "                Staten Island       -74.111771  187.964286        4.455357   \n",
       "Private room    Bronx               -73.884740   67.337691        4.076253   \n",
       "                Brooklyn            -73.947062   76.117872        5.449220   \n",
       "                Manhattan           -73.968446  117.323456        5.172795   \n",
       "                Queens              -73.871736   68.716412        4.962160   \n",
       "                Staten Island       -74.103912   61.198473        3.534351   \n",
       "Shared room     Bronx               -73.895011   63.550000        4.225000   \n",
       "                Brooklyn            -73.948769   52.257353        7.180147   \n",
       "                Manhattan           -73.972632   88.429412        7.570588   \n",
       "                Queens              -73.875409   73.767123        4.554795   \n",
       "                Staten Island       -74.092396   63.400000        1.800000   \n",
       "\n",
       "                                     number_of_reviews  reviews_per_month  \\\n",
       "room_type       neighbourhood_group                                         \n",
       "Entire home/apt Bronx                        34.638060           2.356787   \n",
       "                Brooklyn                     27.924899           1.320865   \n",
       "                Manhattan                    17.969409           1.154487   \n",
       "                Queens                       28.642905           1.979026   \n",
       "                Staten Island                32.750000           1.966061   \n",
       "Private room    Bronx                        24.803922           1.635956   \n",
       "                Brooklyn                     21.343262           1.251944   \n",
       "                Manhattan                    26.509461           1.451963   \n",
       "                Queens                       27.195153           1.932877   \n",
       "                Staten Island                32.541985           1.712870   \n",
       "Shared room     Bronx                         8.375000           1.245937   \n",
       "                Brooklyn                     13.113971           1.090885   \n",
       "                Manhattan                    21.326471           1.779961   \n",
       "                Queens                       11.267123           1.440636   \n",
       "                Staten Island                 2.200000           2.865000   \n",
       "\n",
       "                                     calculated_host_listings_count  \\\n",
       "room_type       neighbourhood_group                                   \n",
       "Entire home/apt Bronx                                      1.843284   \n",
       "                Brooklyn                                   1.757115   \n",
       "                Manhattan                                 18.823695   \n",
       "                Queens                                     1.698722   \n",
       "                Staten Island                              1.508929   \n",
       "Private room    Bronx                                      2.435730   \n",
       "                Brooklyn                                   2.538014   \n",
       "                Manhattan                                  3.128169   \n",
       "                Queens                                     5.562075   \n",
       "                Staten Island                              2.877863   \n",
       "Shared room     Bronx                                      3.825000   \n",
       "                Brooklyn                                   6.250000   \n",
       "                Manhattan                                  3.688235   \n",
       "                Queens                                     3.753425   \n",
       "                Staten Island                              5.600000   \n",
       "\n",
       "                                     availability_365  \n",
       "room_type       neighbourhood_group                    \n",
       "Entire home/apt Bronx                      163.873134  \n",
       "                Brooklyn                    97.323946  \n",
       "                Manhattan                  116.637228  \n",
       "                Queens                     134.270343  \n",
       "                Staten Island              183.508929  \n",
       "Private room    Bronx                      174.851852  \n",
       "                Brooklyn                   102.119716  \n",
       "                Manhattan                  102.317208  \n",
       "                Queens                     148.636480  \n",
       "                Staten Island              219.778626  \n",
       "Shared room     Bronx                      159.800000  \n",
       "                Brooklyn                   174.691176  \n",
       "                Manhattan                  141.591176  \n",
       "                Queens                     187.164384  \n",
       "                Staten Island               88.200000  "
      ]
     },
     "execution_count": 45,
     "metadata": {},
     "output_type": "execute_result"
    }
   ],
   "source": [
    "p1.mean()"
   ]
  },
  {
   "cell_type": "code",
   "execution_count": 58,
   "metadata": {},
   "outputs": [
    {
     "ename": "ValueError",
     "evalue": "Neither the `x` nor `y` variable appears to be numeric.",
     "output_type": "error",
     "traceback": [
      "\u001b[1;31m---------------------------------------------------------------------------\u001b[0m",
      "\u001b[1;31mValueError\u001b[0m                                Traceback (most recent call last)",
      "\u001b[1;32m<ipython-input-58-2e2dc1ea1c24>\u001b[0m in \u001b[0;36m<module>\u001b[1;34m\u001b[0m\n\u001b[1;32m----> 1\u001b[1;33m \u001b[0msns\u001b[0m\u001b[1;33m.\u001b[0m\u001b[0mbarplot\u001b[0m\u001b[1;33m(\u001b[0m\u001b[0mp1\u001b[0m\u001b[1;33m[\u001b[0m\u001b[1;34m'neighbourhood_group'\u001b[0m\u001b[1;33m]\u001b[0m\u001b[1;33m,\u001b[0m\u001b[0mp1\u001b[0m\u001b[1;33m[\u001b[0m\u001b[1;34m'price'\u001b[0m\u001b[1;33m]\u001b[0m\u001b[1;33m)\u001b[0m\u001b[1;33m\u001b[0m\u001b[1;33m\u001b[0m\u001b[0m\n\u001b[0m",
      "\u001b[1;32m~\\anaconda3\\lib\\site-packages\\seaborn\\categorical.py\u001b[0m in \u001b[0;36mbarplot\u001b[1;34m(x, y, hue, data, order, hue_order, estimator, ci, n_boot, units, seed, orient, color, palette, saturation, errcolor, errwidth, capsize, dodge, ax, **kwargs)\u001b[0m\n\u001b[0;32m   3142\u001b[0m             ax=None, **kwargs):\n\u001b[0;32m   3143\u001b[0m \u001b[1;33m\u001b[0m\u001b[0m\n\u001b[1;32m-> 3144\u001b[1;33m     plotter = _BarPlotter(x, y, hue, data, order, hue_order,\n\u001b[0m\u001b[0;32m   3145\u001b[0m                           \u001b[0mestimator\u001b[0m\u001b[1;33m,\u001b[0m \u001b[0mci\u001b[0m\u001b[1;33m,\u001b[0m \u001b[0mn_boot\u001b[0m\u001b[1;33m,\u001b[0m \u001b[0munits\u001b[0m\u001b[1;33m,\u001b[0m \u001b[0mseed\u001b[0m\u001b[1;33m,\u001b[0m\u001b[1;33m\u001b[0m\u001b[1;33m\u001b[0m\u001b[0m\n\u001b[0;32m   3146\u001b[0m                           \u001b[0morient\u001b[0m\u001b[1;33m,\u001b[0m \u001b[0mcolor\u001b[0m\u001b[1;33m,\u001b[0m \u001b[0mpalette\u001b[0m\u001b[1;33m,\u001b[0m \u001b[0msaturation\u001b[0m\u001b[1;33m,\u001b[0m\u001b[1;33m\u001b[0m\u001b[1;33m\u001b[0m\u001b[0m\n",
      "\u001b[1;32m~\\anaconda3\\lib\\site-packages\\seaborn\\categorical.py\u001b[0m in \u001b[0;36m__init__\u001b[1;34m(self, x, y, hue, data, order, hue_order, estimator, ci, n_boot, units, seed, orient, color, palette, saturation, errcolor, errwidth, capsize, dodge)\u001b[0m\n\u001b[0;32m   1600\u001b[0m                  errwidth, capsize, dodge):\n\u001b[0;32m   1601\u001b[0m         \u001b[1;34m\"\"\"Initialize the plotter.\"\"\"\u001b[0m\u001b[1;33m\u001b[0m\u001b[1;33m\u001b[0m\u001b[0m\n\u001b[1;32m-> 1602\u001b[1;33m         self.establish_variables(x, y, hue, data, orient,\n\u001b[0m\u001b[0;32m   1603\u001b[0m                                  order, hue_order, units)\n\u001b[0;32m   1604\u001b[0m         \u001b[0mself\u001b[0m\u001b[1;33m.\u001b[0m\u001b[0mestablish_colors\u001b[0m\u001b[1;33m(\u001b[0m\u001b[0mcolor\u001b[0m\u001b[1;33m,\u001b[0m \u001b[0mpalette\u001b[0m\u001b[1;33m,\u001b[0m \u001b[0msaturation\u001b[0m\u001b[1;33m)\u001b[0m\u001b[1;33m\u001b[0m\u001b[1;33m\u001b[0m\u001b[0m\n",
      "\u001b[1;32m~\\anaconda3\\lib\\site-packages\\seaborn\\categorical.py\u001b[0m in \u001b[0;36mestablish_variables\u001b[1;34m(self, x, y, hue, data, orient, order, hue_order, units)\u001b[0m\n\u001b[0;32m    153\u001b[0m \u001b[1;33m\u001b[0m\u001b[0m\n\u001b[0;32m    154\u001b[0m             \u001b[1;31m# Figure out the plotting orientation\u001b[0m\u001b[1;33m\u001b[0m\u001b[1;33m\u001b[0m\u001b[1;33m\u001b[0m\u001b[0m\n\u001b[1;32m--> 155\u001b[1;33m             \u001b[0morient\u001b[0m \u001b[1;33m=\u001b[0m \u001b[0mself\u001b[0m\u001b[1;33m.\u001b[0m\u001b[0minfer_orient\u001b[0m\u001b[1;33m(\u001b[0m\u001b[0mx\u001b[0m\u001b[1;33m,\u001b[0m \u001b[0my\u001b[0m\u001b[1;33m,\u001b[0m \u001b[0morient\u001b[0m\u001b[1;33m)\u001b[0m\u001b[1;33m\u001b[0m\u001b[1;33m\u001b[0m\u001b[0m\n\u001b[0m\u001b[0;32m    156\u001b[0m \u001b[1;33m\u001b[0m\u001b[0m\n\u001b[0;32m    157\u001b[0m             \u001b[1;31m# Option 2a:\u001b[0m\u001b[1;33m\u001b[0m\u001b[1;33m\u001b[0m\u001b[1;33m\u001b[0m\u001b[0m\n",
      "\u001b[1;32m~\\anaconda3\\lib\\site-packages\\seaborn\\categorical.py\u001b[0m in \u001b[0;36minfer_orient\u001b[1;34m(self, x, y, orient)\u001b[0m\n\u001b[0;32m    352\u001b[0m         \u001b[1;32melif\u001b[0m \u001b[0mis_not_numeric\u001b[0m\u001b[1;33m(\u001b[0m\u001b[0my\u001b[0m\u001b[1;33m)\u001b[0m\u001b[1;33m:\u001b[0m\u001b[1;33m\u001b[0m\u001b[1;33m\u001b[0m\u001b[0m\n\u001b[0;32m    353\u001b[0m             \u001b[1;32mif\u001b[0m \u001b[0mis_not_numeric\u001b[0m\u001b[1;33m(\u001b[0m\u001b[0mx\u001b[0m\u001b[1;33m)\u001b[0m\u001b[1;33m:\u001b[0m\u001b[1;33m\u001b[0m\u001b[1;33m\u001b[0m\u001b[0m\n\u001b[1;32m--> 354\u001b[1;33m                 \u001b[1;32mraise\u001b[0m \u001b[0mValueError\u001b[0m\u001b[1;33m(\u001b[0m\u001b[0mno_numeric\u001b[0m\u001b[1;33m)\u001b[0m\u001b[1;33m\u001b[0m\u001b[1;33m\u001b[0m\u001b[0m\n\u001b[0m\u001b[0;32m    355\u001b[0m             \u001b[1;32melse\u001b[0m\u001b[1;33m:\u001b[0m\u001b[1;33m\u001b[0m\u001b[1;33m\u001b[0m\u001b[0m\n\u001b[0;32m    356\u001b[0m                 \u001b[1;32mreturn\u001b[0m \u001b[1;34m\"h\"\u001b[0m\u001b[1;33m\u001b[0m\u001b[1;33m\u001b[0m\u001b[0m\n",
      "\u001b[1;31mValueError\u001b[0m: Neither the `x` nor `y` variable appears to be numeric."
     ]
    }
   ],
   "source": [
    "sns.barplot(p1['neighbourhood_group'],p1['price'])"
   ]
  },
  {
   "cell_type": "code",
   "execution_count": null,
   "metadata": {},
   "outputs": [],
   "source": []
  }
 ],
 "metadata": {
  "kernelspec": {
   "display_name": "Python 3",
   "language": "python",
   "name": "python3"
  },
  "language_info": {
   "codemirror_mode": {
    "name": "ipython",
    "version": 3
   },
   "file_extension": ".py",
   "mimetype": "text/x-python",
   "name": "python",
   "nbconvert_exporter": "python",
   "pygments_lexer": "ipython3",
   "version": "3.8.3"
  }
 },
 "nbformat": 4,
 "nbformat_minor": 4
}
