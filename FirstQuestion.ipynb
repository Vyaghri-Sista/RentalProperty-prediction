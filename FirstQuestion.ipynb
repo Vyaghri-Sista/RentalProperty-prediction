{
 "cells": [
  {
   "cell_type": "markdown",
   "metadata": {},
   "source": [
    "# Based on the room type-one has to find the prices in different neighbourhood_group"
   ]
  },
  {
   "cell_type": "code",
   "execution_count": 1,
   "metadata": {},
   "outputs": [
    {
     "data": {
      "text/plain": [
       "'C:\\\\Users\\\\svlsrao\\\\Documents\\\\hack\\\\Hackatho'"
      ]
     },
     "execution_count": 1,
     "metadata": {},
     "output_type": "execute_result"
    }
   ],
   "source": [
    "import os\n",
    "import pandas as pd\n",
    "import numpy as np\n",
    "import seaborn as sns\n",
    "import matplotlib.pyplot as plt\n",
    "%matplotlib inline\n",
    "os.getcwd()"
   ]
  },
  {
   "cell_type": "code",
   "execution_count": 2,
   "metadata": {},
   "outputs": [
    {
     "name": "stdout",
     "output_type": "stream",
     "text": [
      "<class 'pandas.core.frame.DataFrame'>\n",
      "RangeIndex: 34226 entries, 0 to 34225\n",
      "Data columns (total 16 columns):\n",
      " #   Column                          Non-Null Count  Dtype  \n",
      "---  ------                          --------------  -----  \n",
      " 0   id                              34226 non-null  int64  \n",
      " 1   name                            34214 non-null  object \n",
      " 2   host_id                         34226 non-null  int64  \n",
      " 3   host_name                       34213 non-null  object \n",
      " 4   neighbourhood_group             34226 non-null  object \n",
      " 5   neighbourhood                   34226 non-null  object \n",
      " 6   latitude                        34226 non-null  float64\n",
      " 7   longitude                       34226 non-null  float64\n",
      " 8   room_type                       34226 non-null  object \n",
      " 9   price                           34226 non-null  int64  \n",
      " 10  minimum_nights                  34226 non-null  int64  \n",
      " 11  number_of_reviews               34226 non-null  int64  \n",
      " 12  last_review                     27244 non-null  object \n",
      " 13  reviews_per_month               27244 non-null  float64\n",
      " 14  calculated_host_listings_count  34226 non-null  int64  \n",
      " 15  availability_365                34226 non-null  int64  \n",
      "dtypes: float64(3), int64(7), object(6)\n",
      "memory usage: 4.2+ MB\n"
     ]
    }
   ],
   "source": [
    "path='C:\\\\Users\\\\svlsrao\\\\Documents\\\\First-Hackathon/file/Train.csv'\n",
    "data=pd.read_csv(path)\n",
    "data.info()"
   ]
  },
  {
   "cell_type": "markdown",
   "metadata": {},
   "source": [
    "# Find the unique type of rooms"
   ]
  },
  {
   "cell_type": "code",
   "execution_count": 3,
   "metadata": {},
   "outputs": [
    {
     "data": {
      "text/plain": [
       "array(['Private room', 'Entire home/apt', 'Shared room'], dtype=object)"
      ]
     },
     "execution_count": 3,
     "metadata": {},
     "output_type": "execute_result"
    }
   ],
   "source": [
    "data['room_type'].unique()"
   ]
  },
  {
   "cell_type": "markdown",
   "metadata": {},
   "source": [
    "# dataframes containing only Private room, Entire home/apt and Shared room"
   ]
  },
  {
   "cell_type": "code",
   "execution_count": 4,
   "metadata": {},
   "outputs": [],
   "source": [
    "pr=data.loc[data['room_type']=='Private room']\n",
    "home=data.loc[data['room_type']=='Entire home/apt']\n",
    "Sr=data.loc[data['room_type']=='Shared room']"
   ]
  },
  {
   "cell_type": "code",
   "execution_count": 5,
   "metadata": {},
   "outputs": [
    {
     "data": {
      "text/plain": [
       "(34226, 16)"
      ]
     },
     "execution_count": 5,
     "metadata": {},
     "output_type": "execute_result"
    }
   ],
   "source": [
    "data.shape"
   ]
  },
  {
   "cell_type": "code",
   "execution_count": 6,
   "metadata": {},
   "outputs": [
    {
     "data": {
      "text/plain": [
       "(15594, 16)"
      ]
     },
     "execution_count": 6,
     "metadata": {},
     "output_type": "execute_result"
    }
   ],
   "source": [
    "pr.shape"
   ]
  },
  {
   "cell_type": "code",
   "execution_count": 7,
   "metadata": {},
   "outputs": [
    {
     "data": {
      "text/plain": [
       "(17829, 16)"
      ]
     },
     "execution_count": 7,
     "metadata": {},
     "output_type": "execute_result"
    }
   ],
   "source": [
    "home.shape"
   ]
  },
  {
   "cell_type": "code",
   "execution_count": 8,
   "metadata": {},
   "outputs": [
    {
     "data": {
      "text/plain": [
       "(803, 16)"
      ]
     },
     "execution_count": 8,
     "metadata": {},
     "output_type": "execute_result"
    }
   ],
   "source": [
    "Sr.shape"
   ]
  },
  {
   "cell_type": "markdown",
   "metadata": {},
   "source": [
    "# checking unique neighbourhood_group"
   ]
  },
  {
   "cell_type": "code",
   "execution_count": 9,
   "metadata": {},
   "outputs": [
    {
     "data": {
      "text/plain": [
       "array(['Manhattan', 'Brooklyn', 'Queens', 'Staten Island', 'Bronx'],\n",
       "      dtype=object)"
      ]
     },
     "execution_count": 9,
     "metadata": {},
     "output_type": "execute_result"
    }
   ],
   "source": [
    "pr['neighbourhood_group'].unique()"
   ]
  },
  {
   "cell_type": "markdown",
   "metadata": {},
   "source": [
    "# description of price based on the grouping by neighbourhood."
   ]
  },
  {
   "cell_type": "code",
   "execution_count": 10,
   "metadata": {},
   "outputs": [
    {
     "data": {
      "text/html": [
       "<div>\n",
       "<style scoped>\n",
       "    .dataframe tbody tr th:only-of-type {\n",
       "        vertical-align: middle;\n",
       "    }\n",
       "\n",
       "    .dataframe tbody tr th {\n",
       "        vertical-align: top;\n",
       "    }\n",
       "\n",
       "    .dataframe thead th {\n",
       "        text-align: right;\n",
       "    }\n",
       "</style>\n",
       "<table border=\"1\" class=\"dataframe\">\n",
       "  <thead>\n",
       "    <tr style=\"text-align: right;\">\n",
       "      <th></th>\n",
       "      <th>count</th>\n",
       "      <th>mean</th>\n",
       "      <th>std</th>\n",
       "      <th>min</th>\n",
       "      <th>25%</th>\n",
       "      <th>50%</th>\n",
       "      <th>75%</th>\n",
       "      <th>max</th>\n",
       "    </tr>\n",
       "    <tr>\n",
       "      <th>neighbourhood_group</th>\n",
       "      <th></th>\n",
       "      <th></th>\n",
       "      <th></th>\n",
       "      <th></th>\n",
       "      <th></th>\n",
       "      <th></th>\n",
       "      <th></th>\n",
       "      <th></th>\n",
       "    </tr>\n",
       "  </thead>\n",
       "  <tbody>\n",
       "    <tr>\n",
       "      <th>Bronx</th>\n",
       "      <td>40.0</td>\n",
       "      <td>63.550000</td>\n",
       "      <td>123.463677</td>\n",
       "      <td>20.0</td>\n",
       "      <td>27.5</td>\n",
       "      <td>30.0</td>\n",
       "      <td>52.00</td>\n",
       "      <td>800.0</td>\n",
       "    </tr>\n",
       "    <tr>\n",
       "      <th>Brooklyn</th>\n",
       "      <td>272.0</td>\n",
       "      <td>52.257353</td>\n",
       "      <td>60.448813</td>\n",
       "      <td>0.0</td>\n",
       "      <td>30.0</td>\n",
       "      <td>36.0</td>\n",
       "      <td>47.00</td>\n",
       "      <td>725.0</td>\n",
       "    </tr>\n",
       "    <tr>\n",
       "      <th>Manhattan</th>\n",
       "      <td>340.0</td>\n",
       "      <td>88.429412</td>\n",
       "      <td>91.683136</td>\n",
       "      <td>10.0</td>\n",
       "      <td>50.0</td>\n",
       "      <td>69.0</td>\n",
       "      <td>89.25</td>\n",
       "      <td>1000.0</td>\n",
       "    </tr>\n",
       "    <tr>\n",
       "      <th>Queens</th>\n",
       "      <td>146.0</td>\n",
       "      <td>73.767123</td>\n",
       "      <td>194.867383</td>\n",
       "      <td>11.0</td>\n",
       "      <td>30.0</td>\n",
       "      <td>37.5</td>\n",
       "      <td>50.75</td>\n",
       "      <td>1800.0</td>\n",
       "    </tr>\n",
       "    <tr>\n",
       "      <th>Staten Island</th>\n",
       "      <td>5.0</td>\n",
       "      <td>63.400000</td>\n",
       "      <td>57.743398</td>\n",
       "      <td>13.0</td>\n",
       "      <td>29.0</td>\n",
       "      <td>30.0</td>\n",
       "      <td>95.00</td>\n",
       "      <td>150.0</td>\n",
       "    </tr>\n",
       "  </tbody>\n",
       "</table>\n",
       "</div>"
      ],
      "text/plain": [
       "                     count       mean         std   min   25%   50%    75%  \\\n",
       "neighbourhood_group                                                          \n",
       "Bronx                 40.0  63.550000  123.463677  20.0  27.5  30.0  52.00   \n",
       "Brooklyn             272.0  52.257353   60.448813   0.0  30.0  36.0  47.00   \n",
       "Manhattan            340.0  88.429412   91.683136  10.0  50.0  69.0  89.25   \n",
       "Queens               146.0  73.767123  194.867383  11.0  30.0  37.5  50.75   \n",
       "Staten Island          5.0  63.400000   57.743398  13.0  29.0  30.0  95.00   \n",
       "\n",
       "                        max  \n",
       "neighbourhood_group          \n",
       "Bronx                 800.0  \n",
       "Brooklyn              725.0  \n",
       "Manhattan            1000.0  \n",
       "Queens               1800.0  \n",
       "Staten Island         150.0  "
      ]
     },
     "execution_count": 10,
     "metadata": {},
     "output_type": "execute_result"
    }
   ],
   "source": [
    "pr.groupby(pr['neighbourhood_group']).price.describe()\n",
    "home.groupby(home['neighbourhood_group']).price.describe()\n",
    "Sr.groupby(Sr['neighbourhood_group']).price.describe()"
   ]
  },
  {
   "cell_type": "markdown",
   "metadata": {},
   "source": [
    "# Data variation\n",
    "    - Lot of outliers are present in the prices \n",
    "    - Mean is greater than median \n",
    "    - we can remove the outliers from the data and implement the regression to predict the prices"
   ]
  },
  {
   "cell_type": "code",
   "execution_count": 11,
   "metadata": {},
   "outputs": [
    {
     "data": {
      "text/html": [
       "<div>\n",
       "<style scoped>\n",
       "    .dataframe tbody tr th:only-of-type {\n",
       "        vertical-align: middle;\n",
       "    }\n",
       "\n",
       "    .dataframe tbody tr th {\n",
       "        vertical-align: top;\n",
       "    }\n",
       "\n",
       "    .dataframe thead th {\n",
       "        text-align: right;\n",
       "    }\n",
       "</style>\n",
       "<table border=\"1\" class=\"dataframe\">\n",
       "  <thead>\n",
       "    <tr style=\"text-align: right;\">\n",
       "      <th></th>\n",
       "      <th>id</th>\n",
       "      <th>name</th>\n",
       "      <th>host_id</th>\n",
       "      <th>host_name</th>\n",
       "      <th>neighbourhood_group</th>\n",
       "      <th>neighbourhood</th>\n",
       "      <th>latitude</th>\n",
       "      <th>longitude</th>\n",
       "      <th>room_type</th>\n",
       "      <th>price</th>\n",
       "      <th>minimum_nights</th>\n",
       "      <th>number_of_reviews</th>\n",
       "      <th>last_review</th>\n",
       "      <th>reviews_per_month</th>\n",
       "      <th>calculated_host_listings_count</th>\n",
       "      <th>availability_365</th>\n",
       "    </tr>\n",
       "  </thead>\n",
       "  <tbody>\n",
       "    <tr>\n",
       "      <th>0</th>\n",
       "      <td>5728806</td>\n",
       "      <td>Large private room in Nolita</td>\n",
       "      <td>4271676</td>\n",
       "      <td>Nat</td>\n",
       "      <td>Manhattan</td>\n",
       "      <td>Nolita</td>\n",
       "      <td>40.72217</td>\n",
       "      <td>-73.99481</td>\n",
       "      <td>Private room</td>\n",
       "      <td>120</td>\n",
       "      <td>7</td>\n",
       "      <td>3</td>\n",
       "      <td>2015-09-01</td>\n",
       "      <td>0.06</td>\n",
       "      <td>3</td>\n",
       "      <td>0</td>\n",
       "    </tr>\n",
       "    <tr>\n",
       "      <th>10</th>\n",
       "      <td>4823959</td>\n",
       "      <td>Private room for 2 in cool BK apt</td>\n",
       "      <td>24633966</td>\n",
       "      <td>Phil</td>\n",
       "      <td>Brooklyn</td>\n",
       "      <td>Kensington</td>\n",
       "      <td>40.64469</td>\n",
       "      <td>-73.97086</td>\n",
       "      <td>Private room</td>\n",
       "      <td>50</td>\n",
       "      <td>14</td>\n",
       "      <td>0</td>\n",
       "      <td>NaN</td>\n",
       "      <td>NaN</td>\n",
       "      <td>1</td>\n",
       "      <td>0</td>\n",
       "    </tr>\n",
       "    <tr>\n",
       "      <th>11</th>\n",
       "      <td>20817201</td>\n",
       "      <td>Private Room in Trendy Williamsburg Loft</td>\n",
       "      <td>643120</td>\n",
       "      <td>Sam</td>\n",
       "      <td>Brooklyn</td>\n",
       "      <td>Williamsburg</td>\n",
       "      <td>40.71591</td>\n",
       "      <td>-73.95513</td>\n",
       "      <td>Private room</td>\n",
       "      <td>50</td>\n",
       "      <td>4</td>\n",
       "      <td>56</td>\n",
       "      <td>2019-06-20</td>\n",
       "      <td>2.53</td>\n",
       "      <td>4</td>\n",
       "      <td>8</td>\n",
       "    </tr>\n",
       "    <tr>\n",
       "      <th>14</th>\n",
       "      <td>5040218</td>\n",
       "      <td>LUX Blg-Prime Area! Lg PRIVATE RM &amp; BATH w/VIEWS!</td>\n",
       "      <td>26019828</td>\n",
       "      <td>Sonia</td>\n",
       "      <td>Manhattan</td>\n",
       "      <td>Hell's Kitchen</td>\n",
       "      <td>40.76159</td>\n",
       "      <td>-73.99824</td>\n",
       "      <td>Private room</td>\n",
       "      <td>69</td>\n",
       "      <td>2</td>\n",
       "      <td>22</td>\n",
       "      <td>2019-03-20</td>\n",
       "      <td>0.64</td>\n",
       "      <td>2</td>\n",
       "      <td>7</td>\n",
       "    </tr>\n",
       "    <tr>\n",
       "      <th>20</th>\n",
       "      <td>17224372</td>\n",
       "      <td>Friendly Room 20-202</td>\n",
       "      <td>115993835</td>\n",
       "      <td>Shimin</td>\n",
       "      <td>Brooklyn</td>\n",
       "      <td>Sunset Park</td>\n",
       "      <td>40.63992</td>\n",
       "      <td>-74.00760</td>\n",
       "      <td>Private room</td>\n",
       "      <td>28</td>\n",
       "      <td>1</td>\n",
       "      <td>31</td>\n",
       "      <td>2019-03-10</td>\n",
       "      <td>1.08</td>\n",
       "      <td>5</td>\n",
       "      <td>1</td>\n",
       "    </tr>\n",
       "  </tbody>\n",
       "</table>\n",
       "</div>"
      ],
      "text/plain": [
       "          id                                               name    host_id  \\\n",
       "0    5728806                       Large private room in Nolita    4271676   \n",
       "10   4823959                  Private room for 2 in cool BK apt   24633966   \n",
       "11  20817201           Private Room in Trendy Williamsburg Loft     643120   \n",
       "14   5040218  LUX Blg-Prime Area! Lg PRIVATE RM & BATH w/VIEWS!   26019828   \n",
       "20  17224372                               Friendly Room 20-202  115993835   \n",
       "\n",
       "   host_name neighbourhood_group   neighbourhood  latitude  longitude  \\\n",
       "0        Nat           Manhattan          Nolita  40.72217  -73.99481   \n",
       "10      Phil            Brooklyn      Kensington  40.64469  -73.97086   \n",
       "11       Sam            Brooklyn    Williamsburg  40.71591  -73.95513   \n",
       "14     Sonia           Manhattan  Hell's Kitchen  40.76159  -73.99824   \n",
       "20    Shimin            Brooklyn     Sunset Park  40.63992  -74.00760   \n",
       "\n",
       "       room_type  price  minimum_nights  number_of_reviews last_review  \\\n",
       "0   Private room    120               7                  3  2015-09-01   \n",
       "10  Private room     50              14                  0         NaN   \n",
       "11  Private room     50               4                 56  2019-06-20   \n",
       "14  Private room     69               2                 22  2019-03-20   \n",
       "20  Private room     28               1                 31  2019-03-10   \n",
       "\n",
       "    reviews_per_month  calculated_host_listings_count  availability_365  \n",
       "0                0.06                               3                 0  \n",
       "10                NaN                               1                 0  \n",
       "11               2.53                               4                 8  \n",
       "14               0.64                               2                 7  \n",
       "20               1.08                               5                 1  "
      ]
     },
     "execution_count": 11,
     "metadata": {},
     "output_type": "execute_result"
    }
   ],
   "source": [
    "pr.head()"
   ]
  },
  {
   "cell_type": "markdown",
   "metadata": {},
   "source": [
    "# Now plot the average price of the individual room type in different neighbourhood_groups\n",
    "Since the difference of median and mean prices for each category was large so the average prices are influenced mainly due to outliers"
   ]
  },
  {
   "cell_type": "code",
   "execution_count": 12,
   "metadata": {},
   "outputs": [
    {
     "data": {
      "text/plain": [
       "Text(0, 0.5, 'Price ($/night)')"
      ]
     },
     "execution_count": 12,
     "metadata": {},
     "output_type": "execute_result"
    },
    {
     "data": {
      "image/png": "[encoded data removed]",
      "text/plain": [
       "<Figure size 432x288 with 1 Axes>"
      ]
     },
     "metadata": {
      "needs_background": "light"
     },
     "output_type": "display_data"
    }
   ],
   "source": [
    "sns.barplot(pr['neighbourhood_group'],pr['price'])\n",
    "plt.title('Average price of a private room per night')\n",
    "plt.xlabel('Different Areas in Newyork City')\n",
    "plt.ylabel('Price ($/night)')"
   ]
  },
  {
   "cell_type": "markdown",
   "metadata": {},
   "source": [
    "# Box plot for each room_type and different neighbourhood"
   ]
  },
  {
   "cell_type": "code",
   "execution_count": 21,
   "metadata": {},
   "outputs": [
    {
     "data": {
      "image/png": "[encoded data removed]",
      "text/plain": [
       "<Figure size 1080x360 with 1 Axes>"
      ]
     },
     "metadata": {
      "needs_background": "light"
     },
     "output_type": "display_data"
    }
   ],
   "source": [
    "plt.figure(figsize=(15,5))\n",
    "#Here we have restricted the y-axis between 0 and 300 \n",
    "plt.ylim(-30,300)\n",
    "sns.boxplot(x='neighbourhood_group',y='price',data=pr)\n",
    "plt\n",
    "plt.show()\n"
   ]
  },
  {
   "cell_type": "code",
   "execution_count": 24,
   "metadata": {},
   "outputs": [
    {
     "data": {
      "text/html": [
       "<div>\n",
       "<style scoped>\n",
       "    .dataframe tbody tr th:only-of-type {\n",
       "        vertical-align: middle;\n",
       "    }\n",
       "\n",
       "    .dataframe tbody tr th {\n",
       "        vertical-align: top;\n",
       "    }\n",
       "\n",
       "    .dataframe thead th {\n",
       "        text-align: right;\n",
       "    }\n",
       "</style>\n",
       "<table border=\"1\" class=\"dataframe\">\n",
       "  <thead>\n",
       "    <tr style=\"text-align: right;\">\n",
       "      <th></th>\n",
       "      <th>count</th>\n",
       "      <th>mean</th>\n",
       "      <th>std</th>\n",
       "      <th>min</th>\n",
       "      <th>25%</th>\n",
       "      <th>50%</th>\n",
       "      <th>75%</th>\n",
       "      <th>max</th>\n",
       "    </tr>\n",
       "    <tr>\n",
       "      <th>neighbourhood_group</th>\n",
       "      <th></th>\n",
       "      <th></th>\n",
       "      <th></th>\n",
       "      <th></th>\n",
       "      <th></th>\n",
       "      <th></th>\n",
       "      <th></th>\n",
       "      <th></th>\n",
       "    </tr>\n",
       "  </thead>\n",
       "  <tbody>\n",
       "    <tr>\n",
       "      <th>Bronx</th>\n",
       "      <td>459.0</td>\n",
       "      <td>67.337691</td>\n",
       "      <td>120.472529</td>\n",
       "      <td>21.0</td>\n",
       "      <td>40.0</td>\n",
       "      <td>53.0</td>\n",
       "      <td>73.0</td>\n",
       "      <td>2500.0</td>\n",
       "    </tr>\n",
       "    <tr>\n",
       "      <th>Brooklyn</th>\n",
       "      <td>7050.0</td>\n",
       "      <td>76.117872</td>\n",
       "      <td>111.853173</td>\n",
       "      <td>0.0</td>\n",
       "      <td>50.0</td>\n",
       "      <td>64.0</td>\n",
       "      <td>80.0</td>\n",
       "      <td>5000.0</td>\n",
       "    </tr>\n",
       "    <tr>\n",
       "      <th>Manhattan</th>\n",
       "      <td>5602.0</td>\n",
       "      <td>117.323456</td>\n",
       "      <td>190.916733</td>\n",
       "      <td>10.0</td>\n",
       "      <td>67.0</td>\n",
       "      <td>90.0</td>\n",
       "      <td>120.0</td>\n",
       "      <td>9999.0</td>\n",
       "    </tr>\n",
       "    <tr>\n",
       "      <th>Queens</th>\n",
       "      <td>2352.0</td>\n",
       "      <td>68.716412</td>\n",
       "      <td>59.525037</td>\n",
       "      <td>10.0</td>\n",
       "      <td>48.0</td>\n",
       "      <td>60.0</td>\n",
       "      <td>75.0</td>\n",
       "      <td>2000.0</td>\n",
       "    </tr>\n",
       "    <tr>\n",
       "      <th>Staten Island</th>\n",
       "      <td>131.0</td>\n",
       "      <td>61.198473</td>\n",
       "      <td>38.050052</td>\n",
       "      <td>20.0</td>\n",
       "      <td>40.0</td>\n",
       "      <td>50.0</td>\n",
       "      <td>71.5</td>\n",
       "      <td>300.0</td>\n",
       "    </tr>\n",
       "  </tbody>\n",
       "</table>\n",
       "</div>"
      ],
      "text/plain": [
       "                      count        mean         std   min   25%   50%    75%  \\\n",
       "neighbourhood_group                                                            \n",
       "Bronx                 459.0   67.337691  120.472529  21.0  40.0  53.0   73.0   \n",
       "Brooklyn             7050.0   76.117872  111.853173   0.0  50.0  64.0   80.0   \n",
       "Manhattan            5602.0  117.323456  190.916733  10.0  67.0  90.0  120.0   \n",
       "Queens               2352.0   68.716412   59.525037  10.0  48.0  60.0   75.0   \n",
       "Staten Island         131.0   61.198473   38.050052  20.0  40.0  50.0   71.5   \n",
       "\n",
       "                        max  \n",
       "neighbourhood_group          \n",
       "Bronx                2500.0  \n",
       "Brooklyn             5000.0  \n",
       "Manhattan            9999.0  \n",
       "Queens               2000.0  \n",
       "Staten Island         300.0  "
      ]
     },
     "execution_count": 24,
     "metadata": {},
     "output_type": "execute_result"
    }
   ],
   "source": [
    "# Mean, median and different quartiles and outliers  for private room in different neighbourhood \n",
    "pr.groupby(pr['neighbourhood_group']).price.describe()"
   ]
  },
  {
   "cell_type": "code",
   "execution_count": 30,
   "metadata": {},
   "outputs": [
    {
     "data": {
      "image/png": "[encoded data removed]",
      "text/plain": [
       "<Figure size 1080x360 with 1 Axes>"
      ]
     },
     "metadata": {
      "needs_background": "light"
     },
     "output_type": "display_data"
    }
   ],
   "source": [
    "plt.figure(figsize=(15,5))\n",
    "#Here we have restricted the y-axis between 0 and 500 \n",
    "plt.ylim(0,800)\n",
    "sns.boxplot(x='neighbourhood_group',y='price',data=home)\n",
    "plt\n",
    "plt.show()"
   ]
  },
  {
   "cell_type": "code",
   "execution_count": 25,
   "metadata": {},
   "outputs": [
    {
     "data": {
      "text/html": [
       "<div>\n",
       "<style scoped>\n",
       "    .dataframe tbody tr th:only-of-type {\n",
       "        vertical-align: middle;\n",
       "    }\n",
       "\n",
       "    .dataframe tbody tr th {\n",
       "        vertical-align: top;\n",
       "    }\n",
       "\n",
       "    .dataframe thead th {\n",
       "        text-align: right;\n",
       "    }\n",
       "</style>\n",
       "<table border=\"1\" class=\"dataframe\">\n",
       "  <thead>\n",
       "    <tr style=\"text-align: right;\">\n",
       "      <th></th>\n",
       "      <th>count</th>\n",
       "      <th>mean</th>\n",
       "      <th>std</th>\n",
       "      <th>min</th>\n",
       "      <th>25%</th>\n",
       "      <th>50%</th>\n",
       "      <th>75%</th>\n",
       "      <th>max</th>\n",
       "    </tr>\n",
       "    <tr>\n",
       "      <th>neighbourhood_group</th>\n",
       "      <th></th>\n",
       "      <th></th>\n",
       "      <th></th>\n",
       "      <th></th>\n",
       "      <th></th>\n",
       "      <th></th>\n",
       "      <th></th>\n",
       "      <th></th>\n",
       "    </tr>\n",
       "  </thead>\n",
       "  <tbody>\n",
       "    <tr>\n",
       "      <th>Bronx</th>\n",
       "      <td>268.0</td>\n",
       "      <td>127.455224</td>\n",
       "      <td>101.120399</td>\n",
       "      <td>28.0</td>\n",
       "      <td>79.0</td>\n",
       "      <td>100.0</td>\n",
       "      <td>139.0</td>\n",
       "      <td>1000.0</td>\n",
       "    </tr>\n",
       "    <tr>\n",
       "      <th>Brooklyn</th>\n",
       "      <td>6711.0</td>\n",
       "      <td>181.116525</td>\n",
       "      <td>251.806081</td>\n",
       "      <td>0.0</td>\n",
       "      <td>105.0</td>\n",
       "      <td>146.0</td>\n",
       "      <td>199.0</td>\n",
       "      <td>10000.0</td>\n",
       "    </tr>\n",
       "    <tr>\n",
       "      <th>Manhattan</th>\n",
       "      <td>9251.0</td>\n",
       "      <td>249.621554</td>\n",
       "      <td>338.568558</td>\n",
       "      <td>0.0</td>\n",
       "      <td>143.0</td>\n",
       "      <td>190.0</td>\n",
       "      <td>255.0</td>\n",
       "      <td>10000.0</td>\n",
       "    </tr>\n",
       "    <tr>\n",
       "      <th>Queens</th>\n",
       "      <td>1487.0</td>\n",
       "      <td>148.470746</td>\n",
       "      <td>135.556613</td>\n",
       "      <td>10.0</td>\n",
       "      <td>94.0</td>\n",
       "      <td>120.0</td>\n",
       "      <td>170.0</td>\n",
       "      <td>2600.0</td>\n",
       "    </tr>\n",
       "    <tr>\n",
       "      <th>Staten Island</th>\n",
       "      <td>112.0</td>\n",
       "      <td>187.964286</td>\n",
       "      <td>478.771399</td>\n",
       "      <td>48.0</td>\n",
       "      <td>75.0</td>\n",
       "      <td>101.5</td>\n",
       "      <td>175.0</td>\n",
       "      <td>5000.0</td>\n",
       "    </tr>\n",
       "  </tbody>\n",
       "</table>\n",
       "</div>"
      ],
      "text/plain": [
       "                      count        mean         std   min    25%    50%  \\\n",
       "neighbourhood_group                                                       \n",
       "Bronx                 268.0  127.455224  101.120399  28.0   79.0  100.0   \n",
       "Brooklyn             6711.0  181.116525  251.806081   0.0  105.0  146.0   \n",
       "Manhattan            9251.0  249.621554  338.568558   0.0  143.0  190.0   \n",
       "Queens               1487.0  148.470746  135.556613  10.0   94.0  120.0   \n",
       "Staten Island         112.0  187.964286  478.771399  48.0   75.0  101.5   \n",
       "\n",
       "                       75%      max  \n",
       "neighbourhood_group                  \n",
       "Bronx                139.0   1000.0  \n",
       "Brooklyn             199.0  10000.0  \n",
       "Manhattan            255.0  10000.0  \n",
       "Queens               170.0   2600.0  \n",
       "Staten Island        175.0   5000.0  "
      ]
     },
     "execution_count": 25,
     "metadata": {},
     "output_type": "execute_result"
    }
   ],
   "source": [
    "# Mean, median and different quartiles and outliers  for private room in different neighbourhood \n",
    "home.groupby(home['neighbourhood_group']).price.describe()"
   ]
  },
  {
   "cell_type": "code",
   "execution_count": 32,
   "metadata": {},
   "outputs": [
    {
     "data": {
      "image/png": "[encoded data removed]",
      "text/plain": [
       "<Figure size 1080x360 with 1 Axes>"
      ]
     },
     "metadata": {
      "needs_background": "light"
     },
     "output_type": "display_data"
    }
   ],
   "source": [
    "plt.figure(figsize=(15,5))\n",
    "#Here we have restricted the y-axis between 0 and 300 \n",
    "plt.ylim(0,300)\n",
    "sns.boxplot(x='neighbourhood_group',y='price',data=Sr)\n",
    "plt\n",
    "plt.show()"
   ]
  },
  {
   "cell_type": "code",
   "execution_count": 26,
   "metadata": {},
   "outputs": [
    {
     "data": {
      "text/html": [
       "<div>\n",
       "<style scoped>\n",
       "    .dataframe tbody tr th:only-of-type {\n",
       "        vertical-align: middle;\n",
       "    }\n",
       "\n",
       "    .dataframe tbody tr th {\n",
       "        vertical-align: top;\n",
       "    }\n",
       "\n",
       "    .dataframe thead th {\n",
       "        text-align: right;\n",
       "    }\n",
       "</style>\n",
       "<table border=\"1\" class=\"dataframe\">\n",
       "  <thead>\n",
       "    <tr style=\"text-align: right;\">\n",
       "      <th></th>\n",
       "      <th>count</th>\n",
       "      <th>mean</th>\n",
       "      <th>std</th>\n",
       "      <th>min</th>\n",
       "      <th>25%</th>\n",
       "      <th>50%</th>\n",
       "      <th>75%</th>\n",
       "      <th>max</th>\n",
       "    </tr>\n",
       "    <tr>\n",
       "      <th>neighbourhood_group</th>\n",
       "      <th></th>\n",
       "      <th></th>\n",
       "      <th></th>\n",
       "      <th></th>\n",
       "      <th></th>\n",
       "      <th></th>\n",
       "      <th></th>\n",
       "      <th></th>\n",
       "    </tr>\n",
       "  </thead>\n",
       "  <tbody>\n",
       "    <tr>\n",
       "      <th>Bronx</th>\n",
       "      <td>40.0</td>\n",
       "      <td>63.550000</td>\n",
       "      <td>123.463677</td>\n",
       "      <td>20.0</td>\n",
       "      <td>27.5</td>\n",
       "      <td>30.0</td>\n",
       "      <td>52.00</td>\n",
       "      <td>800.0</td>\n",
       "    </tr>\n",
       "    <tr>\n",
       "      <th>Brooklyn</th>\n",
       "      <td>272.0</td>\n",
       "      <td>52.257353</td>\n",
       "      <td>60.448813</td>\n",
       "      <td>0.0</td>\n",
       "      <td>30.0</td>\n",
       "      <td>36.0</td>\n",
       "      <td>47.00</td>\n",
       "      <td>725.0</td>\n",
       "    </tr>\n",
       "    <tr>\n",
       "      <th>Manhattan</th>\n",
       "      <td>340.0</td>\n",
       "      <td>88.429412</td>\n",
       "      <td>91.683136</td>\n",
       "      <td>10.0</td>\n",
       "      <td>50.0</td>\n",
       "      <td>69.0</td>\n",
       "      <td>89.25</td>\n",
       "      <td>1000.0</td>\n",
       "    </tr>\n",
       "    <tr>\n",
       "      <th>Queens</th>\n",
       "      <td>146.0</td>\n",
       "      <td>73.767123</td>\n",
       "      <td>194.867383</td>\n",
       "      <td>11.0</td>\n",
       "      <td>30.0</td>\n",
       "      <td>37.5</td>\n",
       "      <td>50.75</td>\n",
       "      <td>1800.0</td>\n",
       "    </tr>\n",
       "    <tr>\n",
       "      <th>Staten Island</th>\n",
       "      <td>5.0</td>\n",
       "      <td>63.400000</td>\n",
       "      <td>57.743398</td>\n",
       "      <td>13.0</td>\n",
       "      <td>29.0</td>\n",
       "      <td>30.0</td>\n",
       "      <td>95.00</td>\n",
       "      <td>150.0</td>\n",
       "    </tr>\n",
       "  </tbody>\n",
       "</table>\n",
       "</div>"
      ],
      "text/plain": [
       "                     count       mean         std   min   25%   50%    75%  \\\n",
       "neighbourhood_group                                                          \n",
       "Bronx                 40.0  63.550000  123.463677  20.0  27.5  30.0  52.00   \n",
       "Brooklyn             272.0  52.257353   60.448813   0.0  30.0  36.0  47.00   \n",
       "Manhattan            340.0  88.429412   91.683136  10.0  50.0  69.0  89.25   \n",
       "Queens               146.0  73.767123  194.867383  11.0  30.0  37.5  50.75   \n",
       "Staten Island          5.0  63.400000   57.743398  13.0  29.0  30.0  95.00   \n",
       "\n",
       "                        max  \n",
       "neighbourhood_group          \n",
       "Bronx                 800.0  \n",
       "Brooklyn              725.0  \n",
       "Manhattan            1000.0  \n",
       "Queens               1800.0  \n",
       "Staten Island         150.0  "
      ]
     },
     "execution_count": 26,
     "metadata": {},
     "output_type": "execute_result"
    }
   ],
   "source": [
    "# Mean, median and different quartiles and outliers  for private room in different neighbourhood \n",
    "Sr.groupby(Sr['neighbourhood_group']).price.describe()"
   ]
  },
  {
   "cell_type": "markdown",
   "metadata": {},
   "source": [
    "# we have seen zero price properties in the brooklyn neighbourhood only so those properties can also be removed"
   ]
  },
  {
   "cell_type": "code",
   "execution_count": 15,
   "metadata": {},
   "outputs": [
    {
     "data": {
      "text/html": [
       "<div>\n",
       "<style scoped>\n",
       "    .dataframe tbody tr th:only-of-type {\n",
       "        vertical-align: middle;\n",
       "    }\n",
       "\n",
       "    .dataframe tbody tr th {\n",
       "        vertical-align: top;\n",
       "    }\n",
       "\n",
       "    .dataframe thead th {\n",
       "        text-align: right;\n",
       "    }\n",
       "</style>\n",
       "<table border=\"1\" class=\"dataframe\">\n",
       "  <thead>\n",
       "    <tr style=\"text-align: right;\">\n",
       "      <th></th>\n",
       "      <th>id</th>\n",
       "      <th>name</th>\n",
       "      <th>host_id</th>\n",
       "      <th>host_name</th>\n",
       "      <th>neighbourhood_group</th>\n",
       "      <th>neighbourhood</th>\n",
       "      <th>latitude</th>\n",
       "      <th>longitude</th>\n",
       "      <th>room_type</th>\n",
       "      <th>price</th>\n",
       "      <th>minimum_nights</th>\n",
       "      <th>number_of_reviews</th>\n",
       "      <th>last_review</th>\n",
       "      <th>reviews_per_month</th>\n",
       "      <th>calculated_host_listings_count</th>\n",
       "      <th>availability_365</th>\n",
       "    </tr>\n",
       "  </thead>\n",
       "  <tbody>\n",
       "    <tr>\n",
       "      <th>29906</th>\n",
       "      <td>11234747</td>\n",
       "      <td>Mins away to Manhattan Suite Residence</td>\n",
       "      <td>24146326</td>\n",
       "      <td>Julien</td>\n",
       "      <td>Queens</td>\n",
       "      <td>Astoria</td>\n",
       "      <td>40.76626</td>\n",
       "      <td>-73.93054</td>\n",
       "      <td>Shared room</td>\n",
       "      <td>1800</td>\n",
       "      <td>3</td>\n",
       "      <td>5</td>\n",
       "      <td>2017-04-09</td>\n",
       "      <td>0.13</td>\n",
       "      <td>2</td>\n",
       "      <td>90</td>\n",
       "    </tr>\n",
       "  </tbody>\n",
       "</table>\n",
       "</div>"
      ],
      "text/plain": [
       "             id                                    name   host_id host_name  \\\n",
       "29906  11234747  Mins away to Manhattan Suite Residence  24146326    Julien   \n",
       "\n",
       "      neighbourhood_group neighbourhood  latitude  longitude    room_type  \\\n",
       "29906              Queens       Astoria  40.76626  -73.93054  Shared room   \n",
       "\n",
       "       price  minimum_nights  number_of_reviews last_review  \\\n",
       "29906   1800               3                  5  2017-04-09   \n",
       "\n",
       "       reviews_per_month  calculated_host_listings_count  availability_365  \n",
       "29906               0.13                               2                90  "
      ]
     },
     "execution_count": 15,
     "metadata": {},
     "output_type": "execute_result"
    }
   ],
   "source": [
    "var_position=Sr[['price']].idxmax()\n",
    "\n",
    "#pr.columns\n",
    "\n",
    "Sr.head()\n",
    "#va=pr['name'][var_position]\n",
    "#pr['name'][var_position]\n",
    "#pr.head(20)\n",
    "df=Sr[Sr.price == Sr.price.max()]\n",
    "df"
   ]
  },
  {
   "cell_type": "markdown",
   "metadata": {},
   "source": [
    "# Similar plots for Entire home"
   ]
  },
  {
   "cell_type": "code",
   "execution_count": 16,
   "metadata": {},
   "outputs": [
    {
     "data": {
      "text/plain": [
       "Text(0, 0.5, 'Price ($/night)')"
      ]
     },
     "execution_count": 16,
     "metadata": {},
     "output_type": "execute_result"
    },
    {
     "data": {
      "image/png": "[encoded data removed]",
      "text/plain": [
       "<Figure size 432x288 with 1 Axes>"
      ]
     },
     "metadata": {
      "needs_background": "light"
     },
     "output_type": "display_data"
    }
   ],
   "source": [
    "sns.barplot(home['neighbourhood_group'],home['price'])\n",
    "plt.title('Average price of a Entire home/Apartment per night')\n",
    "plt.xlabel('Different Areas in Newyork City')\n",
    "plt.ylabel('Price ($/night)')"
   ]
  },
  {
   "cell_type": "code",
   "execution_count": 17,
   "metadata": {},
   "outputs": [
    {
     "data": {
      "text/plain": [
       "Text(0, 0.5, 'Price ($/night)')"
      ]
     },
     "execution_count": 17,
     "metadata": {},
     "output_type": "execute_result"
    },
    {
     "data": {
      "image/png": "[encoded data removed]",
      "text/plain": [
       "<Figure size 432x288 with 1 Axes>"
      ]
     },
     "metadata": {
      "needs_background": "light"
     },
     "output_type": "display_data"
    }
   ],
   "source": [
    "sns.barplot(Sr['neighbourhood_group'],Sr['price'])\n",
    "plt.title('Average price of a Shared room per night')\n",
    "plt.xlabel('Different Areas in Newyork City')\n",
    "plt.ylabel('Price ($/night)')"
   ]
  },
  {
   "cell_type": "code",
   "execution_count": 18,
   "metadata": {},
   "outputs": [
    {
     "data": {
      "text/html": [
       "<div>\n",
       "<style scoped>\n",
       "    .dataframe tbody tr th:only-of-type {\n",
       "        vertical-align: middle;\n",
       "    }\n",
       "\n",
       "    .dataframe tbody tr th {\n",
       "        vertical-align: top;\n",
       "    }\n",
       "\n",
       "    .dataframe thead th {\n",
       "        text-align: right;\n",
       "    }\n",
       "</style>\n",
       "<table border=\"1\" class=\"dataframe\">\n",
       "  <thead>\n",
       "    <tr style=\"text-align: right;\">\n",
       "      <th></th>\n",
       "      <th>id</th>\n",
       "      <th>host_id</th>\n",
       "      <th>latitude</th>\n",
       "      <th>longitude</th>\n",
       "      <th>price</th>\n",
       "      <th>minimum_nights</th>\n",
       "      <th>number_of_reviews</th>\n",
       "      <th>reviews_per_month</th>\n",
       "      <th>calculated_host_listings_count</th>\n",
       "      <th>availability_365</th>\n",
       "    </tr>\n",
       "  </thead>\n",
       "  <tbody>\n",
       "    <tr>\n",
       "      <th>count</th>\n",
       "      <td>3.400000e+02</td>\n",
       "      <td>3.400000e+02</td>\n",
       "      <td>340.000000</td>\n",
       "      <td>340.000000</td>\n",
       "      <td>340.000000</td>\n",
       "      <td>340.000000</td>\n",
       "      <td>340.000000</td>\n",
       "      <td>257.000000</td>\n",
       "      <td>340.000000</td>\n",
       "      <td>340.000000</td>\n",
       "    </tr>\n",
       "    <tr>\n",
       "      <th>mean</th>\n",
       "      <td>2.149793e+07</td>\n",
       "      <td>1.001471e+08</td>\n",
       "      <td>40.769129</td>\n",
       "      <td>-73.972632</td>\n",
       "      <td>88.429412</td>\n",
       "      <td>7.570588</td>\n",
       "      <td>21.326471</td>\n",
       "      <td>1.779961</td>\n",
       "      <td>3.688235</td>\n",
       "      <td>141.591176</td>\n",
       "    </tr>\n",
       "    <tr>\n",
       "      <th>std</th>\n",
       "      <td>1.094318e+07</td>\n",
       "      <td>9.568637e+07</td>\n",
       "      <td>0.037006</td>\n",
       "      <td>0.020992</td>\n",
       "      <td>91.683136</td>\n",
       "      <td>55.320768</td>\n",
       "      <td>37.212567</td>\n",
       "      <td>1.734454</td>\n",
       "      <td>5.200111</td>\n",
       "      <td>145.946410</td>\n",
       "    </tr>\n",
       "    <tr>\n",
       "      <th>min</th>\n",
       "      <td>1.204800e+04</td>\n",
       "      <td>7.549000e+03</td>\n",
       "      <td>40.703720</td>\n",
       "      <td>-74.015640</td>\n",
       "      <td>10.000000</td>\n",
       "      <td>1.000000</td>\n",
       "      <td>0.000000</td>\n",
       "      <td>0.020000</td>\n",
       "      <td>1.000000</td>\n",
       "      <td>0.000000</td>\n",
       "    </tr>\n",
       "    <tr>\n",
       "      <th>25%</th>\n",
       "      <td>1.199484e+07</td>\n",
       "      <td>1.860110e+07</td>\n",
       "      <td>40.743913</td>\n",
       "      <td>-73.988642</td>\n",
       "      <td>50.000000</td>\n",
       "      <td>1.000000</td>\n",
       "      <td>1.000000</td>\n",
       "      <td>0.380000</td>\n",
       "      <td>1.000000</td>\n",
       "      <td>0.000000</td>\n",
       "    </tr>\n",
       "    <tr>\n",
       "      <th>50%</th>\n",
       "      <td>2.301327e+07</td>\n",
       "      <td>4.510284e+07</td>\n",
       "      <td>40.765430</td>\n",
       "      <td>-73.980935</td>\n",
       "      <td>69.000000</td>\n",
       "      <td>1.000000</td>\n",
       "      <td>5.500000</td>\n",
       "      <td>1.310000</td>\n",
       "      <td>2.000000</td>\n",
       "      <td>83.000000</td>\n",
       "    </tr>\n",
       "    <tr>\n",
       "      <th>75%</th>\n",
       "      <td>3.121772e+07</td>\n",
       "      <td>1.920155e+08</td>\n",
       "      <td>40.793650</td>\n",
       "      <td>-73.953052</td>\n",
       "      <td>89.250000</td>\n",
       "      <td>2.000000</td>\n",
       "      <td>23.000000</td>\n",
       "      <td>2.700000</td>\n",
       "      <td>4.000000</td>\n",
       "      <td>320.000000</td>\n",
       "    </tr>\n",
       "    <tr>\n",
       "      <th>max</th>\n",
       "      <td>3.648561e+07</td>\n",
       "      <td>2.724777e+08</td>\n",
       "      <td>40.869310</td>\n",
       "      <td>-73.916820</td>\n",
       "      <td>1000.000000</td>\n",
       "      <td>999.000000</td>\n",
       "      <td>229.000000</td>\n",
       "      <td>9.120000</td>\n",
       "      <td>28.000000</td>\n",
       "      <td>365.000000</td>\n",
       "    </tr>\n",
       "  </tbody>\n",
       "</table>\n",
       "</div>"
      ],
      "text/plain": [
       "                 id       host_id    latitude   longitude        price  \\\n",
       "count  3.400000e+02  3.400000e+02  340.000000  340.000000   340.000000   \n",
       "mean   2.149793e+07  1.001471e+08   40.769129  -73.972632    88.429412   \n",
       "std    1.094318e+07  9.568637e+07    0.037006    0.020992    91.683136   \n",
       "min    1.204800e+04  7.549000e+03   40.703720  -74.015640    10.000000   \n",
       "25%    1.199484e+07  1.860110e+07   40.743913  -73.988642    50.000000   \n",
       "50%    2.301327e+07  4.510284e+07   40.765430  -73.980935    69.000000   \n",
       "75%    3.121772e+07  1.920155e+08   40.793650  -73.953052    89.250000   \n",
       "max    3.648561e+07  2.724777e+08   40.869310  -73.916820  1000.000000   \n",
       "\n",
       "       minimum_nights  number_of_reviews  reviews_per_month  \\\n",
       "count      340.000000         340.000000         257.000000   \n",
       "mean         7.570588          21.326471           1.779961   \n",
       "std         55.320768          37.212567           1.734454   \n",
       "min          1.000000           0.000000           0.020000   \n",
       "25%          1.000000           1.000000           0.380000   \n",
       "50%          1.000000           5.500000           1.310000   \n",
       "75%          2.000000          23.000000           2.700000   \n",
       "max        999.000000         229.000000           9.120000   \n",
       "\n",
       "       calculated_host_listings_count  availability_365  \n",
       "count                      340.000000        340.000000  \n",
       "mean                         3.688235        141.591176  \n",
       "std                          5.200111        145.946410  \n",
       "min                          1.000000          0.000000  \n",
       "25%                          1.000000          0.000000  \n",
       "50%                          2.000000         83.000000  \n",
       "75%                          4.000000        320.000000  \n",
       "max                         28.000000        365.000000  "
      ]
     },
     "execution_count": 18,
     "metadata": {},
     "output_type": "execute_result"
    }
   ],
   "source": [
    "s1=Sr.loc[Sr['neighbourhood_group']=='Manhattan']\n",
    "s1.describe()"
   ]
  },
  {
   "cell_type": "code",
   "execution_count": null,
   "metadata": {},
   "outputs": [],
   "source": [
    "p1=data.groupby([data['room_type'],data['neighbourhood_group']])"
   ]
  },
  {
   "cell_type": "code",
   "execution_count": null,
   "metadata": {},
   "outputs": [],
   "source": [
    "p1.mean()"
   ]
  },
  {
   "cell_type": "code",
   "execution_count": null,
   "metadata": {},
   "outputs": [],
   "source": [
    "sns.barplot(p1['neighbourhood_group'],p1['price'])"
   ]
  }
 ],
 "metadata": {
  "kernelspec": {
   "display_name": "Python 3",
   "language": "python",
   "name": "python3"
  },
  "language_info": {
   "codemirror_mode": {
    "name": "ipython",
    "version": 3
   },
   "file_extension": ".py",
   "mimetype": "text/x-python",
   "name": "python",
   "nbconvert_exporter": "python",
   "pygments_lexer": "ipython3",
   "version": "3.8.3"
  }
 },
 "nbformat": 4,
 "nbformat_minor": 4
}
